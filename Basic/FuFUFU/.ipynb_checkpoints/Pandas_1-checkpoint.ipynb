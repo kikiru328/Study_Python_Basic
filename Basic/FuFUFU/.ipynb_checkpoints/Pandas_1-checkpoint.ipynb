{
 "cells": [
  {
   "cell_type": "code",
   "execution_count": 1,
   "metadata": {},
   "outputs": [],
   "source": [
    "import pandas as pd"
   ]
  },
  {
   "cell_type": "markdown",
   "metadata": {},
   "source": [
    "## 데이터 불러오기 "
   ]
  },
  {
   "cell_type": "code",
   "execution_count": 21,
   "metadata": {},
   "outputs": [
    {
     "name": "stdout",
     "output_type": "stream",
     "text": [
      "(9, 6)\n"
     ]
    },
    {
     "data": {
      "text/html": [
       "<div>\n",
       "<style scoped>\n",
       "    .dataframe tbody tr th:only-of-type {\n",
       "        vertical-align: middle;\n",
       "    }\n",
       "\n",
       "    .dataframe tbody tr th {\n",
       "        vertical-align: top;\n",
       "    }\n",
       "\n",
       "    .dataframe thead th {\n",
       "        text-align: right;\n",
       "    }\n",
       "</style>\n",
       "<table border=\"1\" class=\"dataframe\">\n",
       "  <thead>\n",
       "    <tr style=\"text-align: right;\">\n",
       "      <th></th>\n",
       "      <th>이름</th>\n",
       "      <th>측정일</th>\n",
       "      <th>몸무게</th>\n",
       "      <th>단위</th>\n",
       "      <th>담당</th>\n",
       "      <th>지점</th>\n",
       "    </tr>\n",
       "    <tr>\n",
       "      <th>회차</th>\n",
       "      <th></th>\n",
       "      <th></th>\n",
       "      <th></th>\n",
       "      <th></th>\n",
       "      <th></th>\n",
       "      <th></th>\n",
       "    </tr>\n",
       "  </thead>\n",
       "  <tbody>\n",
       "    <tr>\n",
       "      <td>5</td>\n",
       "      <td>강성희</td>\n",
       "      <td>2019-01-05</td>\n",
       "      <td>76.2</td>\n",
       "      <td>kg</td>\n",
       "      <td>김지수</td>\n",
       "      <td>강남구</td>\n",
       "    </tr>\n",
       "    <tr>\n",
       "      <td>6</td>\n",
       "      <td>강성희</td>\n",
       "      <td>2019-01-06</td>\n",
       "      <td>75.7</td>\n",
       "      <td>kg</td>\n",
       "      <td>최재우</td>\n",
       "      <td>여의도</td>\n",
       "    </tr>\n",
       "    <tr>\n",
       "      <td>7</td>\n",
       "      <td>강성희</td>\n",
       "      <td>2019-01-07</td>\n",
       "      <td>NaN</td>\n",
       "      <td>kg</td>\n",
       "      <td>최재우</td>\n",
       "      <td>여의도</td>\n",
       "    </tr>\n",
       "    <tr>\n",
       "      <td>8</td>\n",
       "      <td>강성희</td>\n",
       "      <td>2019-01-08</td>\n",
       "      <td>NaN</td>\n",
       "      <td>kg</td>\n",
       "      <td>김민철</td>\n",
       "      <td>여의도</td>\n",
       "    </tr>\n",
       "    <tr>\n",
       "      <td>9</td>\n",
       "      <td>강성희</td>\n",
       "      <td>2019-01-09</td>\n",
       "      <td>75.0</td>\n",
       "      <td>kg</td>\n",
       "      <td>김민철</td>\n",
       "      <td>여의도</td>\n",
       "    </tr>\n",
       "  </tbody>\n",
       "</table>\n",
       "</div>"
      ],
      "text/plain": [
       "     이름         측정일   몸무게  단위   담당   지점\n",
       "회차                                     \n",
       "5   강성희  2019-01-05  76.2  kg  김지수  강남구\n",
       "6   강성희  2019-01-06  75.7  kg  최재우  여의도\n",
       "7   강성희  2019-01-07   NaN  kg  최재우  여의도\n",
       "8   강성희  2019-01-08   NaN  kg  김민철  여의도\n",
       "9   강성희  2019-01-09  75.0  kg  김민철  여의도"
      ]
     },
     "execution_count": 21,
     "metadata": {},
     "output_type": "execute_result"
    }
   ],
   "source": [
    "url = 'http://bit.ly/ds01-weight-history'\n",
    "\n",
    "# DataFrame\n",
    "data = pd.read_csv(\"Data/data.csv\", index_col=\"회차\")\n",
    "\n",
    "\n",
    "print(data.shape)\n",
    "# data.head()\n",
    "data.tail()"
   ]
  },
  {
   "cell_type": "markdown",
   "metadata": {},
   "source": [
    "## 행렬 검색하기 "
   ]
  },
  {
   "cell_type": "markdown",
   "metadata": {},
   "source": [
    "### 열(columns)검색"
   ]
  },
  {
   "cell_type": "code",
   "execution_count": 22,
   "metadata": {},
   "outputs": [
    {
     "data": {
      "text/html": [
       "<div>\n",
       "<style scoped>\n",
       "    .dataframe tbody tr th:only-of-type {\n",
       "        vertical-align: middle;\n",
       "    }\n",
       "\n",
       "    .dataframe tbody tr th {\n",
       "        vertical-align: top;\n",
       "    }\n",
       "\n",
       "    .dataframe thead th {\n",
       "        text-align: right;\n",
       "    }\n",
       "</style>\n",
       "<table border=\"1\" class=\"dataframe\">\n",
       "  <thead>\n",
       "    <tr style=\"text-align: right;\">\n",
       "      <th></th>\n",
       "      <th>이름</th>\n",
       "      <th>측정일</th>\n",
       "      <th>몸무게</th>\n",
       "      <th>단위</th>\n",
       "      <th>담당</th>\n",
       "      <th>지점</th>\n",
       "    </tr>\n",
       "    <tr>\n",
       "      <th>회차</th>\n",
       "      <th></th>\n",
       "      <th></th>\n",
       "      <th></th>\n",
       "      <th></th>\n",
       "      <th></th>\n",
       "      <th></th>\n",
       "    </tr>\n",
       "  </thead>\n",
       "  <tbody>\n",
       "    <tr>\n",
       "      <td>1</td>\n",
       "      <td>강성희</td>\n",
       "      <td>2019-01-01</td>\n",
       "      <td>76.4</td>\n",
       "      <td>kg</td>\n",
       "      <td>김지수</td>\n",
       "      <td>강남</td>\n",
       "    </tr>\n",
       "  </tbody>\n",
       "</table>\n",
       "</div>"
      ],
      "text/plain": [
       "     이름         측정일   몸무게  단위   담당  지점\n",
       "회차                                    \n",
       "1   강성희  2019-01-01  76.4  kg  김지수  강남"
      ]
     },
     "execution_count": 22,
     "metadata": {},
     "output_type": "execute_result"
    }
   ],
   "source": [
    "data.head(1)"
   ]
  },
  {
   "cell_type": "code",
   "execution_count": 23,
   "metadata": {},
   "outputs": [
    {
     "data": {
      "text/plain": [
       "회차\n",
       "1    76.4\n",
       "2    75.7\n",
       "3    76.0\n",
       "4     NaN\n",
       "5    76.2\n",
       "6    75.7\n",
       "7     NaN\n",
       "8     NaN\n",
       "9    75.0\n",
       "Name: 몸무게, dtype: float64"
      ]
     },
     "execution_count": 23,
     "metadata": {},
     "output_type": "execute_result"
    }
   ],
   "source": [
    "data['몸무게']"
   ]
  },
  {
   "cell_type": "code",
   "execution_count": 26,
   "metadata": {},
   "outputs": [
    {
     "data": {
      "text/plain": [
       "회차\n",
       "1    강성희\n",
       "2    강성희\n",
       "3    강성희\n",
       "4    강성희\n",
       "5    강성희\n",
       "6    강성희\n",
       "7    강성희\n",
       "8    강성희\n",
       "9    강성희\n",
       "Name: 이름, dtype: object"
      ]
     },
     "execution_count": 26,
     "metadata": {},
     "output_type": "execute_result"
    }
   ],
   "source": [
    "data['이름']"
   ]
  },
  {
   "cell_type": "code",
   "execution_count": 28,
   "metadata": {},
   "outputs": [
    {
     "data": {
      "text/plain": [
       "회차\n",
       "1     강남\n",
       "2     강남\n",
       "3     강남\n",
       "4    여의도\n",
       "5    강남구\n",
       "6    여의도\n",
       "7    여의도\n",
       "8    여의도\n",
       "9    여의도\n",
       "Name: 지점, dtype: object"
      ]
     },
     "execution_count": 28,
     "metadata": {},
     "output_type": "execute_result"
    }
   ],
   "source": [
    "data['지점']"
   ]
  },
  {
   "cell_type": "code",
   "execution_count": 39,
   "metadata": {},
   "outputs": [
    {
     "data": {
      "text/html": [
       "<div>\n",
       "<style scoped>\n",
       "    .dataframe tbody tr th:only-of-type {\n",
       "        vertical-align: middle;\n",
       "    }\n",
       "\n",
       "    .dataframe tbody tr th {\n",
       "        vertical-align: top;\n",
       "    }\n",
       "\n",
       "    .dataframe thead th {\n",
       "        text-align: right;\n",
       "    }\n",
       "</style>\n",
       "<table border=\"1\" class=\"dataframe\">\n",
       "  <thead>\n",
       "    <tr style=\"text-align: right;\">\n",
       "      <th></th>\n",
       "      <th>이름</th>\n",
       "      <th>측정일</th>\n",
       "      <th>몸무게</th>\n",
       "      <th>단위</th>\n",
       "      <th>담당</th>\n",
       "      <th>지점</th>\n",
       "    </tr>\n",
       "    <tr>\n",
       "      <th>회차</th>\n",
       "      <th></th>\n",
       "      <th></th>\n",
       "      <th></th>\n",
       "      <th></th>\n",
       "      <th></th>\n",
       "      <th></th>\n",
       "    </tr>\n",
       "  </thead>\n",
       "  <tbody>\n",
       "    <tr>\n",
       "      <td>1</td>\n",
       "      <td>강성희</td>\n",
       "      <td>2019-01-01</td>\n",
       "      <td>76.4</td>\n",
       "      <td>kg</td>\n",
       "      <td>김지수</td>\n",
       "      <td>강남</td>\n",
       "    </tr>\n",
       "    <tr>\n",
       "      <td>2</td>\n",
       "      <td>강성희</td>\n",
       "      <td>2019-01-02</td>\n",
       "      <td>75.7</td>\n",
       "      <td>kg</td>\n",
       "      <td>김지수</td>\n",
       "      <td>강남</td>\n",
       "    </tr>\n",
       "  </tbody>\n",
       "</table>\n",
       "</div>"
      ],
      "text/plain": [
       "     이름         측정일   몸무게  단위   담당  지점\n",
       "회차                                    \n",
       "1   강성희  2019-01-01  76.4  kg  김지수  강남\n",
       "2   강성희  2019-01-02  75.7  kg  김지수  강남"
      ]
     },
     "execution_count": 39,
     "metadata": {},
     "output_type": "execute_result"
    }
   ],
   "source": [
    "# data[['이름', '몸무게']]\n",
    "\n",
    "cols = ['이름', '몸무게']\n",
    "data[cols]\n",
    "data.head(2)"
   ]
  },
  {
   "cell_type": "markdown",
   "metadata": {},
   "source": [
    "### 행(rows) 검색"
   ]
  },
  {
   "cell_type": "code",
   "execution_count": 42,
   "metadata": {},
   "outputs": [
    {
     "data": {
      "text/plain": [
       "이름            강성희\n",
       "측정일    2019-01-01\n",
       "몸무게          76.4\n",
       "단위             kg\n",
       "담당            김지수\n",
       "지점             강남\n",
       "Name: 1, dtype: object"
      ]
     },
     "execution_count": 42,
     "metadata": {},
     "output_type": "execute_result"
    }
   ],
   "source": [
    "# loc = location\n",
    "data.loc[1]"
   ]
  },
  {
   "cell_type": "code",
   "execution_count": 44,
   "metadata": {},
   "outputs": [
    {
     "data": {
      "text/html": [
       "<div>\n",
       "<style scoped>\n",
       "    .dataframe tbody tr th:only-of-type {\n",
       "        vertical-align: middle;\n",
       "    }\n",
       "\n",
       "    .dataframe tbody tr th {\n",
       "        vertical-align: top;\n",
       "    }\n",
       "\n",
       "    .dataframe thead th {\n",
       "        text-align: right;\n",
       "    }\n",
       "</style>\n",
       "<table border=\"1\" class=\"dataframe\">\n",
       "  <thead>\n",
       "    <tr style=\"text-align: right;\">\n",
       "      <th></th>\n",
       "      <th>이름</th>\n",
       "      <th>측정일</th>\n",
       "      <th>몸무게</th>\n",
       "      <th>단위</th>\n",
       "      <th>담당</th>\n",
       "      <th>지점</th>\n",
       "    </tr>\n",
       "    <tr>\n",
       "      <th>회차</th>\n",
       "      <th></th>\n",
       "      <th></th>\n",
       "      <th></th>\n",
       "      <th></th>\n",
       "      <th></th>\n",
       "      <th></th>\n",
       "    </tr>\n",
       "  </thead>\n",
       "  <tbody>\n",
       "    <tr>\n",
       "      <td>1</td>\n",
       "      <td>강성희</td>\n",
       "      <td>2019-01-01</td>\n",
       "      <td>76.4</td>\n",
       "      <td>kg</td>\n",
       "      <td>김지수</td>\n",
       "      <td>강남</td>\n",
       "    </tr>\n",
       "    <tr>\n",
       "      <td>2</td>\n",
       "      <td>강성희</td>\n",
       "      <td>2019-01-02</td>\n",
       "      <td>75.7</td>\n",
       "      <td>kg</td>\n",
       "      <td>김지수</td>\n",
       "      <td>강남</td>\n",
       "    </tr>\n",
       "  </tbody>\n",
       "</table>\n",
       "</div>"
      ],
      "text/plain": [
       "     이름         측정일   몸무게  단위   담당  지점\n",
       "회차                                    \n",
       "1   강성희  2019-01-01  76.4  kg  김지수  강남\n",
       "2   강성희  2019-01-02  75.7  kg  김지수  강남"
      ]
     },
     "execution_count": 44,
     "metadata": {},
     "output_type": "execute_result"
    }
   ],
   "source": [
    "# data.loc[[1, 2]]\n",
    "idx = [1, 2]\n",
    "data.loc[idx]"
   ]
  },
  {
   "cell_type": "code",
   "execution_count": 46,
   "metadata": {},
   "outputs": [
    {
     "data": {
      "text/plain": [
       "이름            강성희\n",
       "측정일    2019-01-01\n",
       "몸무게          76.4\n",
       "단위             kg\n",
       "담당            김지수\n",
       "지점             강남\n",
       "Name: 1, dtype: object"
      ]
     },
     "execution_count": 46,
     "metadata": {},
     "output_type": "execute_result"
    }
   ],
   "source": [
    "data.iloc[0]\n",
    "\n",
    "#순서대로 가져올 때 iloc"
   ]
  },
  {
   "cell_type": "code",
   "execution_count": 48,
   "metadata": {},
   "outputs": [
    {
     "data": {
      "text/html": [
       "<div>\n",
       "<style scoped>\n",
       "    .dataframe tbody tr th:only-of-type {\n",
       "        vertical-align: middle;\n",
       "    }\n",
       "\n",
       "    .dataframe tbody tr th {\n",
       "        vertical-align: top;\n",
       "    }\n",
       "\n",
       "    .dataframe thead th {\n",
       "        text-align: right;\n",
       "    }\n",
       "</style>\n",
       "<table border=\"1\" class=\"dataframe\">\n",
       "  <thead>\n",
       "    <tr style=\"text-align: right;\">\n",
       "      <th></th>\n",
       "      <th>이름</th>\n",
       "      <th>측정일</th>\n",
       "      <th>몸무게</th>\n",
       "      <th>단위</th>\n",
       "      <th>담당</th>\n",
       "      <th>지점</th>\n",
       "    </tr>\n",
       "    <tr>\n",
       "      <th>회차</th>\n",
       "      <th></th>\n",
       "      <th></th>\n",
       "      <th></th>\n",
       "      <th></th>\n",
       "      <th></th>\n",
       "      <th></th>\n",
       "    </tr>\n",
       "  </thead>\n",
       "  <tbody>\n",
       "    <tr>\n",
       "      <td>1</td>\n",
       "      <td>강성희</td>\n",
       "      <td>2019-01-01</td>\n",
       "      <td>76.4</td>\n",
       "      <td>kg</td>\n",
       "      <td>김지수</td>\n",
       "      <td>강남</td>\n",
       "    </tr>\n",
       "    <tr>\n",
       "      <td>2</td>\n",
       "      <td>강성희</td>\n",
       "      <td>2019-01-02</td>\n",
       "      <td>75.7</td>\n",
       "      <td>kg</td>\n",
       "      <td>김지수</td>\n",
       "      <td>강남</td>\n",
       "    </tr>\n",
       "    <tr>\n",
       "      <td>3</td>\n",
       "      <td>강성희</td>\n",
       "      <td>2019-01-03</td>\n",
       "      <td>76.0</td>\n",
       "      <td>kg</td>\n",
       "      <td>김지수</td>\n",
       "      <td>강남</td>\n",
       "    </tr>\n",
       "    <tr>\n",
       "      <td>4</td>\n",
       "      <td>강성희</td>\n",
       "      <td>2019-01-04</td>\n",
       "      <td>NaN</td>\n",
       "      <td>kg</td>\n",
       "      <td>최재우</td>\n",
       "      <td>여의도</td>\n",
       "    </tr>\n",
       "    <tr>\n",
       "      <td>5</td>\n",
       "      <td>강성희</td>\n",
       "      <td>2019-01-05</td>\n",
       "      <td>76.2</td>\n",
       "      <td>kg</td>\n",
       "      <td>김지수</td>\n",
       "      <td>강남구</td>\n",
       "    </tr>\n",
       "  </tbody>\n",
       "</table>\n",
       "</div>"
      ],
      "text/plain": [
       "     이름         측정일   몸무게  단위   담당   지점\n",
       "회차                                     \n",
       "1   강성희  2019-01-01  76.4  kg  김지수   강남\n",
       "2   강성희  2019-01-02  75.7  kg  김지수   강남\n",
       "3   강성희  2019-01-03  76.0  kg  김지수   강남\n",
       "4   강성희  2019-01-04   NaN  kg  최재우  여의도\n",
       "5   강성희  2019-01-05  76.2  kg  김지수  강남구"
      ]
     },
     "execution_count": 48,
     "metadata": {},
     "output_type": "execute_result"
    }
   ],
   "source": [
    "# data.iloc[[0, 1]\n",
    "data.iloc[0:5]"
   ]
  },
  {
   "cell_type": "markdown",
   "metadata": {},
   "source": [
    "###  행렬 동시검색 "
   ]
  },
  {
   "cell_type": "code",
   "execution_count": 97,
   "metadata": {},
   "outputs": [],
   "source": [
    "# 동시검색은 무조건 Loc써야함"
   ]
  },
  {
   "cell_type": "code",
   "execution_count": 101,
   "metadata": {},
   "outputs": [
    {
     "data": {
      "text/plain": [
       "'강성희'"
      ]
     },
     "execution_count": 101,
     "metadata": {},
     "output_type": "execute_result"
    }
   ],
   "source": [
    "data.loc[1, '이름']\n",
    "\n",
    "# 대괄호는 검색과 list \n",
    "# 두 개이상은 list\n",
    "# 세개 이상 검색할 때는 loc"
   ]
  },
  {
   "cell_type": "code",
   "execution_count": 102,
   "metadata": {},
   "outputs": [
    {
     "data": {
      "text/html": [
       "<div>\n",
       "<style scoped>\n",
       "    .dataframe tbody tr th:only-of-type {\n",
       "        vertical-align: middle;\n",
       "    }\n",
       "\n",
       "    .dataframe tbody tr th {\n",
       "        vertical-align: top;\n",
       "    }\n",
       "\n",
       "    .dataframe thead th {\n",
       "        text-align: right;\n",
       "    }\n",
       "</style>\n",
       "<table border=\"1\" class=\"dataframe\">\n",
       "  <thead>\n",
       "    <tr style=\"text-align: right;\">\n",
       "      <th></th>\n",
       "      <th>이름</th>\n",
       "      <th>몸무게</th>\n",
       "      <th>지점</th>\n",
       "    </tr>\n",
       "    <tr>\n",
       "      <th>회차</th>\n",
       "      <th></th>\n",
       "      <th></th>\n",
       "      <th></th>\n",
       "    </tr>\n",
       "  </thead>\n",
       "  <tbody>\n",
       "    <tr>\n",
       "      <td>1</td>\n",
       "      <td>강성희</td>\n",
       "      <td>76.4</td>\n",
       "      <td>강남</td>\n",
       "    </tr>\n",
       "    <tr>\n",
       "      <td>2</td>\n",
       "      <td>강성희</td>\n",
       "      <td>75.7</td>\n",
       "      <td>강남</td>\n",
       "    </tr>\n",
       "    <tr>\n",
       "      <td>3</td>\n",
       "      <td>강성희</td>\n",
       "      <td>76.0</td>\n",
       "      <td>강남</td>\n",
       "    </tr>\n",
       "  </tbody>\n",
       "</table>\n",
       "</div>"
      ],
      "text/plain": [
       "     이름   몸무게  지점\n",
       "회차               \n",
       "1   강성희  76.4  강남\n",
       "2   강성희  75.7  강남\n",
       "3   강성희  76.0  강남"
      ]
     },
     "execution_count": 102,
     "metadata": {},
     "output_type": "execute_result"
    }
   ],
   "source": [
    "idx = [1, 2, 3]\n",
    "cols = ['이름', '몸무게', '지점']\n",
    "\n",
    "data.loc[idx, cols]"
   ]
  },
  {
   "cell_type": "markdown",
   "metadata": {},
   "source": [
    "## 기본기능"
   ]
  },
  {
   "cell_type": "code",
   "execution_count": 50,
   "metadata": {},
   "outputs": [
    {
     "data": {
      "text/plain": [
       "75.83333333333333"
      ]
     },
     "execution_count": 50,
     "metadata": {},
     "output_type": "execute_result"
    }
   ],
   "source": [
    " data['몸무게'].mean()"
   ]
  },
  {
   "cell_type": "code",
   "execution_count": 51,
   "metadata": {},
   "outputs": [
    {
     "data": {
      "text/plain": [
       "75.0"
      ]
     },
     "execution_count": 51,
     "metadata": {},
     "output_type": "execute_result"
    }
   ],
   "source": [
    " data['몸무게'].min()"
   ]
  },
  {
   "cell_type": "code",
   "execution_count": 52,
   "metadata": {},
   "outputs": [
    {
     "data": {
      "text/plain": [
       "76.4"
      ]
     },
     "execution_count": 52,
     "metadata": {},
     "output_type": "execute_result"
    }
   ],
   "source": [
    " data['몸무게'].max()"
   ]
  },
  {
   "cell_type": "code",
   "execution_count": 53,
   "metadata": {},
   "outputs": [
    {
     "data": {
      "text/plain": [
       "0.4926120853842992"
      ]
     },
     "execution_count": 53,
     "metadata": {},
     "output_type": "execute_result"
    }
   ],
   "source": [
    " data['몸무게'].std()"
   ]
  },
  {
   "cell_type": "code",
   "execution_count": 55,
   "metadata": {},
   "outputs": [
    {
     "data": {
      "text/plain": [
       "회차\n",
       "1     강남\n",
       "2     강남\n",
       "3     강남\n",
       "4    여의도\n",
       "5    강남구\n",
       "6    여의도\n",
       "7    여의도\n",
       "8    여의도\n",
       "9    여의도\n",
       "Name: 지점, dtype: object"
      ]
     },
     "execution_count": 55,
     "metadata": {},
     "output_type": "execute_result"
    }
   ],
   "source": [
    "data['지점']"
   ]
  },
  {
   "cell_type": "code",
   "execution_count": 63,
   "metadata": {},
   "outputs": [
    {
     "data": {
      "text/plain": [
       "회차\n",
       "1     강남\n",
       "2     강남\n",
       "3     강남\n",
       "4    여의도\n",
       "5    강남구\n",
       "6    여의도\n",
       "7    여의도\n",
       "8    여의도\n",
       "9    여의도\n",
       "Name: 지점, dtype: object"
      ]
     },
     "execution_count": 63,
     "metadata": {},
     "output_type": "execute_result"
    }
   ],
   "source": [
    "data['지점'].replace('강남구', '강남')\n",
    "# 판다스는 원본을 바꾸지 않습니다 --> 잘못되면 ㅈ되거든요\n",
    "\n",
    "data['지점']\n"
   ]
  },
  {
   "cell_type": "code",
   "execution_count": 66,
   "metadata": {},
   "outputs": [],
   "source": [
    "data['지점']=\\\n",
    "        data['지점'].replace('강남구', '강남')\n",
    "\n",
    "\n",
    "# 데이터 덮어씌우기"
   ]
  },
  {
   "cell_type": "code",
   "execution_count": 67,
   "metadata": {},
   "outputs": [
    {
     "data": {
      "text/plain": [
       "회차\n",
       "1     강남\n",
       "2     강남\n",
       "3     강남\n",
       "4    여의도\n",
       "5     강남\n",
       "6    여의도\n",
       "7    여의도\n",
       "8    여의도\n",
       "9    여의도\n",
       "Name: 지점, dtype: object"
      ]
     },
     "execution_count": 67,
     "metadata": {},
     "output_type": "execute_result"
    }
   ],
   "source": [
    "data['지점']"
   ]
  },
  {
   "cell_type": "code",
   "execution_count": 71,
   "metadata": {},
   "outputs": [
    {
     "data": {
      "text/plain": [
       "회차\n",
       "1    76.4\n",
       "2    75.7\n",
       "3    76.0\n",
       "4    77.0\n",
       "5    76.2\n",
       "6    75.7\n",
       "7    77.0\n",
       "8    77.0\n",
       "9    75.0\n",
       "Name: 몸무게, dtype: float64"
      ]
     },
     "execution_count": 71,
     "metadata": {},
     "output_type": "execute_result"
    }
   ],
   "source": [
    "data['몸무게']\n",
    "# NaN = Not a number, null = 빈 값\n",
    "# 판다스에서는 난 값!, 문자열 아님\n",
    "\n",
    "data['몸무게'].fillna(77)\n",
    "\n",
    "# fill.na = nan값 한 번에 채우기"
   ]
  },
  {
   "cell_type": "markdown",
   "metadata": {},
   "source": [
    "## 색인(indexing) "
   ]
  },
  {
   "cell_type": "code",
   "execution_count": 73,
   "metadata": {},
   "outputs": [
    {
     "data": {
      "text/plain": [
       "회차\n",
       "1     True\n",
       "2    False\n",
       "3    False\n",
       "4    False\n",
       "5     True\n",
       "6    False\n",
       "7    False\n",
       "8    False\n",
       "9    False\n",
       "Name: 몸무게, dtype: bool"
      ]
     },
     "execution_count": 73,
     "metadata": {},
     "output_type": "execute_result"
    }
   ],
   "source": [
    "data['몸무게'] > 76\n",
    "\n",
    "# true, flase 먼저 만들고"
   ]
  },
  {
   "cell_type": "code",
   "execution_count": 75,
   "metadata": {},
   "outputs": [
    {
     "data": {
      "text/html": [
       "<div>\n",
       "<style scoped>\n",
       "    .dataframe tbody tr th:only-of-type {\n",
       "        vertical-align: middle;\n",
       "    }\n",
       "\n",
       "    .dataframe tbody tr th {\n",
       "        vertical-align: top;\n",
       "    }\n",
       "\n",
       "    .dataframe thead th {\n",
       "        text-align: right;\n",
       "    }\n",
       "</style>\n",
       "<table border=\"1\" class=\"dataframe\">\n",
       "  <thead>\n",
       "    <tr style=\"text-align: right;\">\n",
       "      <th></th>\n",
       "      <th>이름</th>\n",
       "      <th>측정일</th>\n",
       "      <th>몸무게</th>\n",
       "      <th>단위</th>\n",
       "      <th>담당</th>\n",
       "      <th>지점</th>\n",
       "    </tr>\n",
       "    <tr>\n",
       "      <th>회차</th>\n",
       "      <th></th>\n",
       "      <th></th>\n",
       "      <th></th>\n",
       "      <th></th>\n",
       "      <th></th>\n",
       "      <th></th>\n",
       "    </tr>\n",
       "  </thead>\n",
       "  <tbody>\n",
       "    <tr>\n",
       "      <td>1</td>\n",
       "      <td>강성희</td>\n",
       "      <td>2019-01-01</td>\n",
       "      <td>76.4</td>\n",
       "      <td>kg</td>\n",
       "      <td>김지수</td>\n",
       "      <td>강남</td>\n",
       "    </tr>\n",
       "    <tr>\n",
       "      <td>5</td>\n",
       "      <td>강성희</td>\n",
       "      <td>2019-01-05</td>\n",
       "      <td>76.2</td>\n",
       "      <td>kg</td>\n",
       "      <td>김지수</td>\n",
       "      <td>강남</td>\n",
       "    </tr>\n",
       "  </tbody>\n",
       "</table>\n",
       "</div>"
      ],
      "text/plain": [
       "     이름         측정일   몸무게  단위   담당  지점\n",
       "회차                                    \n",
       "1   강성희  2019-01-01  76.4  kg  김지수  강남\n",
       "5   강성희  2019-01-05  76.2  kg  김지수  강남"
      ]
     },
     "execution_count": 75,
     "metadata": {},
     "output_type": "execute_result"
    }
   ],
   "source": [
    "data[data['몸무게'] > 76]\n",
    "\n"
   ]
  },
  {
   "cell_type": "code",
   "execution_count": 78,
   "metadata": {},
   "outputs": [
    {
     "data": {
      "text/plain": [
       "회차\n",
       "1    False\n",
       "2     True\n",
       "3    False\n",
       "4    False\n",
       "5    False\n",
       "6     True\n",
       "7    False\n",
       "8    False\n",
       "9     True\n",
       "Name: 몸무게, dtype: bool"
      ]
     },
     "execution_count": 78,
     "metadata": {},
     "output_type": "execute_result"
    }
   ],
   "source": [
    "# pratice\n",
    "\n",
    "data['몸무게'] < 76"
   ]
  },
  {
   "cell_type": "code",
   "execution_count": 79,
   "metadata": {},
   "outputs": [
    {
     "data": {
      "text/html": [
       "<div>\n",
       "<style scoped>\n",
       "    .dataframe tbody tr th:only-of-type {\n",
       "        vertical-align: middle;\n",
       "    }\n",
       "\n",
       "    .dataframe tbody tr th {\n",
       "        vertical-align: top;\n",
       "    }\n",
       "\n",
       "    .dataframe thead th {\n",
       "        text-align: right;\n",
       "    }\n",
       "</style>\n",
       "<table border=\"1\" class=\"dataframe\">\n",
       "  <thead>\n",
       "    <tr style=\"text-align: right;\">\n",
       "      <th></th>\n",
       "      <th>이름</th>\n",
       "      <th>측정일</th>\n",
       "      <th>몸무게</th>\n",
       "      <th>단위</th>\n",
       "      <th>담당</th>\n",
       "      <th>지점</th>\n",
       "    </tr>\n",
       "    <tr>\n",
       "      <th>회차</th>\n",
       "      <th></th>\n",
       "      <th></th>\n",
       "      <th></th>\n",
       "      <th></th>\n",
       "      <th></th>\n",
       "      <th></th>\n",
       "    </tr>\n",
       "  </thead>\n",
       "  <tbody>\n",
       "    <tr>\n",
       "      <td>2</td>\n",
       "      <td>강성희</td>\n",
       "      <td>2019-01-02</td>\n",
       "      <td>75.7</td>\n",
       "      <td>kg</td>\n",
       "      <td>김지수</td>\n",
       "      <td>강남</td>\n",
       "    </tr>\n",
       "    <tr>\n",
       "      <td>6</td>\n",
       "      <td>강성희</td>\n",
       "      <td>2019-01-06</td>\n",
       "      <td>75.7</td>\n",
       "      <td>kg</td>\n",
       "      <td>최재우</td>\n",
       "      <td>여의도</td>\n",
       "    </tr>\n",
       "    <tr>\n",
       "      <td>9</td>\n",
       "      <td>강성희</td>\n",
       "      <td>2019-01-09</td>\n",
       "      <td>75.0</td>\n",
       "      <td>kg</td>\n",
       "      <td>김민철</td>\n",
       "      <td>여의도</td>\n",
       "    </tr>\n",
       "  </tbody>\n",
       "</table>\n",
       "</div>"
      ],
      "text/plain": [
       "     이름         측정일   몸무게  단위   담당   지점\n",
       "회차                                     \n",
       "2   강성희  2019-01-02  75.7  kg  김지수   강남\n",
       "6   강성희  2019-01-06  75.7  kg  최재우  여의도\n",
       "9   강성희  2019-01-09  75.0  kg  김민철  여의도"
      ]
     },
     "execution_count": 79,
     "metadata": {},
     "output_type": "execute_result"
    }
   ],
   "source": [
    "data[data['몸무게'] < 76]"
   ]
  },
  {
   "cell_type": "code",
   "execution_count": 84,
   "metadata": {},
   "outputs": [
    {
     "data": {
      "text/html": [
       "<div>\n",
       "<style scoped>\n",
       "    .dataframe tbody tr th:only-of-type {\n",
       "        vertical-align: middle;\n",
       "    }\n",
       "\n",
       "    .dataframe tbody tr th {\n",
       "        vertical-align: top;\n",
       "    }\n",
       "\n",
       "    .dataframe thead th {\n",
       "        text-align: right;\n",
       "    }\n",
       "</style>\n",
       "<table border=\"1\" class=\"dataframe\">\n",
       "  <thead>\n",
       "    <tr style=\"text-align: right;\">\n",
       "      <th></th>\n",
       "      <th>이름</th>\n",
       "      <th>측정일</th>\n",
       "      <th>몸무게</th>\n",
       "      <th>단위</th>\n",
       "      <th>담당</th>\n",
       "      <th>지점</th>\n",
       "    </tr>\n",
       "    <tr>\n",
       "      <th>회차</th>\n",
       "      <th></th>\n",
       "      <th></th>\n",
       "      <th></th>\n",
       "      <th></th>\n",
       "      <th></th>\n",
       "      <th></th>\n",
       "    </tr>\n",
       "  </thead>\n",
       "  <tbody>\n",
       "    <tr>\n",
       "      <td>1</td>\n",
       "      <td>강성희</td>\n",
       "      <td>2019-01-01</td>\n",
       "      <td>76.4</td>\n",
       "      <td>kg</td>\n",
       "      <td>김지수</td>\n",
       "      <td>강남</td>\n",
       "    </tr>\n",
       "    <tr>\n",
       "      <td>2</td>\n",
       "      <td>강성희</td>\n",
       "      <td>2019-01-02</td>\n",
       "      <td>75.7</td>\n",
       "      <td>kg</td>\n",
       "      <td>김지수</td>\n",
       "      <td>강남</td>\n",
       "    </tr>\n",
       "    <tr>\n",
       "      <td>3</td>\n",
       "      <td>강성희</td>\n",
       "      <td>2019-01-03</td>\n",
       "      <td>76.0</td>\n",
       "      <td>kg</td>\n",
       "      <td>김지수</td>\n",
       "      <td>강남</td>\n",
       "    </tr>\n",
       "    <tr>\n",
       "      <td>5</td>\n",
       "      <td>강성희</td>\n",
       "      <td>2019-01-05</td>\n",
       "      <td>76.2</td>\n",
       "      <td>kg</td>\n",
       "      <td>김지수</td>\n",
       "      <td>강남</td>\n",
       "    </tr>\n",
       "  </tbody>\n",
       "</table>\n",
       "</div>"
      ],
      "text/plain": [
       "     이름         측정일   몸무게  단위   담당  지점\n",
       "회차                                    \n",
       "1   강성희  2019-01-01  76.4  kg  김지수  강남\n",
       "2   강성희  2019-01-02  75.7  kg  김지수  강남\n",
       "3   강성희  2019-01-03  76.0  kg  김지수  강남\n",
       "5   강성희  2019-01-05  76.2  kg  김지수  강남"
      ]
     },
     "execution_count": 84,
     "metadata": {},
     "output_type": "execute_result"
    }
   ],
   "source": [
    "data[data['담당'] == '김지수']"
   ]
  },
  {
   "cell_type": "code",
   "execution_count": 88,
   "metadata": {},
   "outputs": [
    {
     "data": {
      "text/html": [
       "<div>\n",
       "<style scoped>\n",
       "    .dataframe tbody tr th:only-of-type {\n",
       "        vertical-align: middle;\n",
       "    }\n",
       "\n",
       "    .dataframe tbody tr th {\n",
       "        vertical-align: top;\n",
       "    }\n",
       "\n",
       "    .dataframe thead th {\n",
       "        text-align: right;\n",
       "    }\n",
       "</style>\n",
       "<table border=\"1\" class=\"dataframe\">\n",
       "  <thead>\n",
       "    <tr style=\"text-align: right;\">\n",
       "      <th></th>\n",
       "      <th>이름</th>\n",
       "      <th>측정일</th>\n",
       "      <th>몸무게</th>\n",
       "      <th>단위</th>\n",
       "      <th>담당</th>\n",
       "      <th>지점</th>\n",
       "    </tr>\n",
       "    <tr>\n",
       "      <th>회차</th>\n",
       "      <th></th>\n",
       "      <th></th>\n",
       "      <th></th>\n",
       "      <th></th>\n",
       "      <th></th>\n",
       "      <th></th>\n",
       "    </tr>\n",
       "  </thead>\n",
       "  <tbody>\n",
       "    <tr>\n",
       "      <td>1</td>\n",
       "      <td>강성희</td>\n",
       "      <td>2019-01-01</td>\n",
       "      <td>76.4</td>\n",
       "      <td>kg</td>\n",
       "      <td>김지수</td>\n",
       "      <td>강남</td>\n",
       "    </tr>\n",
       "    <tr>\n",
       "      <td>2</td>\n",
       "      <td>강성희</td>\n",
       "      <td>2019-01-02</td>\n",
       "      <td>75.7</td>\n",
       "      <td>kg</td>\n",
       "      <td>김지수</td>\n",
       "      <td>강남</td>\n",
       "    </tr>\n",
       "    <tr>\n",
       "      <td>3</td>\n",
       "      <td>강성희</td>\n",
       "      <td>2019-01-03</td>\n",
       "      <td>76.0</td>\n",
       "      <td>kg</td>\n",
       "      <td>김지수</td>\n",
       "      <td>강남</td>\n",
       "    </tr>\n",
       "    <tr>\n",
       "      <td>5</td>\n",
       "      <td>강성희</td>\n",
       "      <td>2019-01-05</td>\n",
       "      <td>76.2</td>\n",
       "      <td>kg</td>\n",
       "      <td>김지수</td>\n",
       "      <td>강남</td>\n",
       "    </tr>\n",
       "  </tbody>\n",
       "</table>\n",
       "</div>"
      ],
      "text/plain": [
       "     이름         측정일   몸무게  단위   담당  지점\n",
       "회차                                    \n",
       "1   강성희  2019-01-01  76.4  kg  김지수  강남\n",
       "2   강성희  2019-01-02  75.7  kg  김지수  강남\n",
       "3   강성희  2019-01-03  76.0  kg  김지수  강남\n",
       "5   강성희  2019-01-05  76.2  kg  김지수  강남"
      ]
     },
     "execution_count": 88,
     "metadata": {},
     "output_type": "execute_result"
    }
   ],
   "source": [
    "data[data['지점'] == '강남']"
   ]
  },
  {
   "cell_type": "code",
   "execution_count": 90,
   "metadata": {},
   "outputs": [
    {
     "data": {
      "text/plain": [
       "회차\n",
       "1    False\n",
       "2    False\n",
       "3    False\n",
       "4    False\n",
       "5    False\n",
       "6    False\n",
       "7    False\n",
       "8    False\n",
       "9    False\n",
       "Name: 몸무게, dtype: bool"
      ]
     },
     "execution_count": 90,
     "metadata": {},
     "output_type": "execute_result"
    }
   ],
   "source": [
    "(data['몸무게'] > 76) & (['담당'] == '김지수')\n",
    "\n",
    "\n",
    "#순서를 만들 떄는 소괄호"
   ]
  },
  {
   "cell_type": "code",
   "execution_count": 93,
   "metadata": {},
   "outputs": [
    {
     "data": {
      "text/html": [
       "<div>\n",
       "<style scoped>\n",
       "    .dataframe tbody tr th:only-of-type {\n",
       "        vertical-align: middle;\n",
       "    }\n",
       "\n",
       "    .dataframe tbody tr th {\n",
       "        vertical-align: top;\n",
       "    }\n",
       "\n",
       "    .dataframe thead th {\n",
       "        text-align: right;\n",
       "    }\n",
       "</style>\n",
       "<table border=\"1\" class=\"dataframe\">\n",
       "  <thead>\n",
       "    <tr style=\"text-align: right;\">\n",
       "      <th></th>\n",
       "      <th>이름</th>\n",
       "      <th>측정일</th>\n",
       "      <th>몸무게</th>\n",
       "      <th>단위</th>\n",
       "      <th>담당</th>\n",
       "      <th>지점</th>\n",
       "    </tr>\n",
       "    <tr>\n",
       "      <th>회차</th>\n",
       "      <th></th>\n",
       "      <th></th>\n",
       "      <th></th>\n",
       "      <th></th>\n",
       "      <th></th>\n",
       "      <th></th>\n",
       "    </tr>\n",
       "  </thead>\n",
       "  <tbody>\n",
       "    <tr>\n",
       "      <td>1</td>\n",
       "      <td>강성희</td>\n",
       "      <td>2019-01-01</td>\n",
       "      <td>76.4</td>\n",
       "      <td>kg</td>\n",
       "      <td>김지수</td>\n",
       "      <td>강남</td>\n",
       "    </tr>\n",
       "    <tr>\n",
       "      <td>5</td>\n",
       "      <td>강성희</td>\n",
       "      <td>2019-01-05</td>\n",
       "      <td>76.2</td>\n",
       "      <td>kg</td>\n",
       "      <td>김지수</td>\n",
       "      <td>강남</td>\n",
       "    </tr>\n",
       "  </tbody>\n",
       "</table>\n",
       "</div>"
      ],
      "text/plain": [
       "     이름         측정일   몸무게  단위   담당  지점\n",
       "회차                                    \n",
       "1   강성희  2019-01-01  76.4  kg  김지수  강남\n",
       "5   강성희  2019-01-05  76.2  kg  김지수  강남"
      ]
     },
     "execution_count": 93,
     "metadata": {},
     "output_type": "execute_result"
    }
   ],
   "source": [
    "data[(data['몸무게'] > 76) & (data['담당'] == '김지수')]"
   ]
  },
  {
   "cell_type": "code",
   "execution_count": 105,
   "metadata": {},
   "outputs": [
    {
     "data": {
      "text/html": [
       "<div>\n",
       "<style scoped>\n",
       "    .dataframe tbody tr th:only-of-type {\n",
       "        vertical-align: middle;\n",
       "    }\n",
       "\n",
       "    .dataframe tbody tr th {\n",
       "        vertical-align: top;\n",
       "    }\n",
       "\n",
       "    .dataframe thead th {\n",
       "        text-align: right;\n",
       "    }\n",
       "</style>\n",
       "<table border=\"1\" class=\"dataframe\">\n",
       "  <thead>\n",
       "    <tr style=\"text-align: right;\">\n",
       "      <th></th>\n",
       "      <th>이름</th>\n",
       "      <th>측정일</th>\n",
       "      <th>몸무게</th>\n",
       "      <th>단위</th>\n",
       "      <th>담당</th>\n",
       "      <th>지점</th>\n",
       "    </tr>\n",
       "    <tr>\n",
       "      <th>회차</th>\n",
       "      <th></th>\n",
       "      <th></th>\n",
       "      <th></th>\n",
       "      <th></th>\n",
       "      <th></th>\n",
       "      <th></th>\n",
       "    </tr>\n",
       "  </thead>\n",
       "  <tbody>\n",
       "    <tr>\n",
       "      <td>1</td>\n",
       "      <td>강성희</td>\n",
       "      <td>2019-01-01</td>\n",
       "      <td>76.4</td>\n",
       "      <td>kg</td>\n",
       "      <td>김지수</td>\n",
       "      <td>강남</td>\n",
       "    </tr>\n",
       "    <tr>\n",
       "      <td>5</td>\n",
       "      <td>강성희</td>\n",
       "      <td>2019-01-05</td>\n",
       "      <td>76.2</td>\n",
       "      <td>kg</td>\n",
       "      <td>김지수</td>\n",
       "      <td>강남</td>\n",
       "    </tr>\n",
       "  </tbody>\n",
       "</table>\n",
       "</div>"
      ],
      "text/plain": [
       "     이름         측정일   몸무게  단위   담당  지점\n",
       "회차                                    \n",
       "1   강성희  2019-01-01  76.4  kg  김지수  강남\n",
       "5   강성희  2019-01-05  76.2  kg  김지수  강남"
      ]
     },
     "execution_count": 105,
     "metadata": {},
     "output_type": "execute_result"
    }
   ],
   "source": [
    "# data[(data['몸무게'] > 76) & (data['담당'] == '김지수')]\n",
    "\n",
    "over_weight = (data['몸무게'] > 76)\n",
    "kim = (data['담당'] == '김지수')\n",
    "\n",
    "data[over_weight&kim]"
   ]
  },
  {
   "cell_type": "code",
   "execution_count": 106,
   "metadata": {},
   "outputs": [
    {
     "data": {
      "text/plain": [
       "회차\n",
       "1    강성희\n",
       "5    강성희\n",
       "Name: 이름, dtype: object"
      ]
     },
     "execution_count": 106,
     "metadata": {},
     "output_type": "execute_result"
    }
   ],
   "source": [
    "#행렬동시검색 => loc\n",
    "\n",
    "data.loc[over_weight&kim, '이름']"
   ]
  },
  {
   "cell_type": "code",
   "execution_count": 109,
   "metadata": {},
   "outputs": [
    {
     "data": {
      "text/html": [
       "<div>\n",
       "<style scoped>\n",
       "    .dataframe tbody tr th:only-of-type {\n",
       "        vertical-align: middle;\n",
       "    }\n",
       "\n",
       "    .dataframe tbody tr th {\n",
       "        vertical-align: top;\n",
       "    }\n",
       "\n",
       "    .dataframe thead th {\n",
       "        text-align: right;\n",
       "    }\n",
       "</style>\n",
       "<table border=\"1\" class=\"dataframe\">\n",
       "  <thead>\n",
       "    <tr style=\"text-align: right;\">\n",
       "      <th></th>\n",
       "      <th>이름</th>\n",
       "      <th>몸무게</th>\n",
       "    </tr>\n",
       "    <tr>\n",
       "      <th>회차</th>\n",
       "      <th></th>\n",
       "      <th></th>\n",
       "    </tr>\n",
       "  </thead>\n",
       "  <tbody>\n",
       "    <tr>\n",
       "      <td>1</td>\n",
       "      <td>강성희</td>\n",
       "      <td>76.4</td>\n",
       "    </tr>\n",
       "    <tr>\n",
       "      <td>5</td>\n",
       "      <td>강성희</td>\n",
       "      <td>76.2</td>\n",
       "    </tr>\n",
       "  </tbody>\n",
       "</table>\n",
       "</div>"
      ],
      "text/plain": [
       "     이름   몸무게\n",
       "회차           \n",
       "1   강성희  76.4\n",
       "5   강성희  76.2"
      ]
     },
     "execution_count": 109,
     "metadata": {},
     "output_type": "execute_result"
    }
   ],
   "source": [
    "# data[(data['몸무게'] > 76) & (data['담당'] == '김지수')]\n",
    "\n",
    "over_weight = (data['몸무게'] > 76)\n",
    "kim = (data['담당'] == '김지수')\n",
    "\n",
    "cols = ['이름', '몸무게']\n",
    "\n",
    "data.loc[over_weight&kim, cols]"
   ]
  },
  {
   "cell_type": "code",
   "execution_count": 110,
   "metadata": {},
   "outputs": [
    {
     "data": {
      "text/html": [
       "<div>\n",
       "<style scoped>\n",
       "    .dataframe tbody tr th:only-of-type {\n",
       "        vertical-align: middle;\n",
       "    }\n",
       "\n",
       "    .dataframe tbody tr th {\n",
       "        vertical-align: top;\n",
       "    }\n",
       "\n",
       "    .dataframe thead th {\n",
       "        text-align: right;\n",
       "    }\n",
       "</style>\n",
       "<table border=\"1\" class=\"dataframe\">\n",
       "  <thead>\n",
       "    <tr style=\"text-align: right;\">\n",
       "      <th></th>\n",
       "      <th>이름</th>\n",
       "      <th>몸무게</th>\n",
       "    </tr>\n",
       "    <tr>\n",
       "      <th>회차</th>\n",
       "      <th></th>\n",
       "      <th></th>\n",
       "    </tr>\n",
       "  </thead>\n",
       "  <tbody>\n",
       "    <tr>\n",
       "      <td>1</td>\n",
       "      <td>강성희</td>\n",
       "      <td>76.4</td>\n",
       "    </tr>\n",
       "    <tr>\n",
       "      <td>2</td>\n",
       "      <td>강성희</td>\n",
       "      <td>75.7</td>\n",
       "    </tr>\n",
       "    <tr>\n",
       "      <td>3</td>\n",
       "      <td>강성희</td>\n",
       "      <td>76.0</td>\n",
       "    </tr>\n",
       "    <tr>\n",
       "      <td>5</td>\n",
       "      <td>강성희</td>\n",
       "      <td>76.2</td>\n",
       "    </tr>\n",
       "  </tbody>\n",
       "</table>\n",
       "</div>"
      ],
      "text/plain": [
       "     이름   몸무게\n",
       "회차           \n",
       "1   강성희  76.4\n",
       "2   강성희  75.7\n",
       "3   강성희  76.0\n",
       "5   강성희  76.2"
      ]
     },
     "execution_count": 110,
     "metadata": {},
     "output_type": "execute_result"
    }
   ],
   "source": [
    "# data[(data['몸무게'] > 76) & (data['담당'] == '김지수')]\n",
    "\n",
    "over_weight = (data['몸무게'] > 76)\n",
    "kim = (data['담당'] == '김지수')\n",
    "\n",
    "cols = ['이름', '몸무게']\n",
    "\n",
    "data.loc[over_weight|kim, cols]\n",
    "\n",
    "# | = or"
   ]
  },
  {
   "cell_type": "code",
   "execution_count": 113,
   "metadata": {},
   "outputs": [
    {
     "data": {
      "text/plain": [
       "회차\n",
       "1    False\n",
       "2    False\n",
       "3    False\n",
       "4     True\n",
       "5    False\n",
       "6    False\n",
       "7     True\n",
       "8     True\n",
       "9    False\n",
       "Name: 몸무게, dtype: bool"
      ]
     },
     "execution_count": 113,
     "metadata": {},
     "output_type": "execute_result"
    }
   ],
   "source": [
    "# 비어있는 데이터 검색\n",
    "\n",
    "data['몸무게'].isnull()\n",
    "\n",
    "\n",
    "#indexing 하기 전에는 무조건 true, false로 데이터 확인한 후 문자데이터로 전환"
   ]
  },
  {
   "cell_type": "code",
   "execution_count": 114,
   "metadata": {},
   "outputs": [
    {
     "data": {
      "text/html": [
       "<div>\n",
       "<style scoped>\n",
       "    .dataframe tbody tr th:only-of-type {\n",
       "        vertical-align: middle;\n",
       "    }\n",
       "\n",
       "    .dataframe tbody tr th {\n",
       "        vertical-align: top;\n",
       "    }\n",
       "\n",
       "    .dataframe thead th {\n",
       "        text-align: right;\n",
       "    }\n",
       "</style>\n",
       "<table border=\"1\" class=\"dataframe\">\n",
       "  <thead>\n",
       "    <tr style=\"text-align: right;\">\n",
       "      <th></th>\n",
       "      <th>이름</th>\n",
       "      <th>측정일</th>\n",
       "      <th>몸무게</th>\n",
       "      <th>단위</th>\n",
       "      <th>담당</th>\n",
       "      <th>지점</th>\n",
       "    </tr>\n",
       "    <tr>\n",
       "      <th>회차</th>\n",
       "      <th></th>\n",
       "      <th></th>\n",
       "      <th></th>\n",
       "      <th></th>\n",
       "      <th></th>\n",
       "      <th></th>\n",
       "    </tr>\n",
       "  </thead>\n",
       "  <tbody>\n",
       "    <tr>\n",
       "      <td>4</td>\n",
       "      <td>강성희</td>\n",
       "      <td>2019-01-04</td>\n",
       "      <td>NaN</td>\n",
       "      <td>kg</td>\n",
       "      <td>최재우</td>\n",
       "      <td>여의도</td>\n",
       "    </tr>\n",
       "    <tr>\n",
       "      <td>7</td>\n",
       "      <td>강성희</td>\n",
       "      <td>2019-01-07</td>\n",
       "      <td>NaN</td>\n",
       "      <td>kg</td>\n",
       "      <td>최재우</td>\n",
       "      <td>여의도</td>\n",
       "    </tr>\n",
       "    <tr>\n",
       "      <td>8</td>\n",
       "      <td>강성희</td>\n",
       "      <td>2019-01-08</td>\n",
       "      <td>NaN</td>\n",
       "      <td>kg</td>\n",
       "      <td>김민철</td>\n",
       "      <td>여의도</td>\n",
       "    </tr>\n",
       "  </tbody>\n",
       "</table>\n",
       "</div>"
      ],
      "text/plain": [
       "     이름         측정일  몸무게  단위   담당   지점\n",
       "회차                                    \n",
       "4   강성희  2019-01-04  NaN  kg  최재우  여의도\n",
       "7   강성희  2019-01-07  NaN  kg  최재우  여의도\n",
       "8   강성희  2019-01-08  NaN  kg  김민철  여의도"
      ]
     },
     "execution_count": 114,
     "metadata": {},
     "output_type": "execute_result"
    }
   ],
   "source": [
    "data[data['몸무게'].isnull()]"
   ]
  },
  {
   "cell_type": "code",
   "execution_count": 115,
   "metadata": {},
   "outputs": [
    {
     "data": {
      "text/html": [
       "<div>\n",
       "<style scoped>\n",
       "    .dataframe tbody tr th:only-of-type {\n",
       "        vertical-align: middle;\n",
       "    }\n",
       "\n",
       "    .dataframe tbody tr th {\n",
       "        vertical-align: top;\n",
       "    }\n",
       "\n",
       "    .dataframe thead th {\n",
       "        text-align: right;\n",
       "    }\n",
       "</style>\n",
       "<table border=\"1\" class=\"dataframe\">\n",
       "  <thead>\n",
       "    <tr style=\"text-align: right;\">\n",
       "      <th></th>\n",
       "      <th>이름</th>\n",
       "      <th>몸무게</th>\n",
       "    </tr>\n",
       "    <tr>\n",
       "      <th>회차</th>\n",
       "      <th></th>\n",
       "      <th></th>\n",
       "    </tr>\n",
       "  </thead>\n",
       "  <tbody>\n",
       "    <tr>\n",
       "      <td>4</td>\n",
       "      <td>강성희</td>\n",
       "      <td>NaN</td>\n",
       "    </tr>\n",
       "    <tr>\n",
       "      <td>7</td>\n",
       "      <td>강성희</td>\n",
       "      <td>NaN</td>\n",
       "    </tr>\n",
       "    <tr>\n",
       "      <td>8</td>\n",
       "      <td>강성희</td>\n",
       "      <td>NaN</td>\n",
       "    </tr>\n",
       "  </tbody>\n",
       "</table>\n",
       "</div>"
      ],
      "text/plain": [
       "     이름  몸무게\n",
       "회차          \n",
       "4   강성희  NaN\n",
       "7   강성희  NaN\n",
       "8   강성희  NaN"
      ]
     },
     "execution_count": 115,
     "metadata": {},
     "output_type": "execute_result"
    }
   ],
   "source": [
    "cols = ['이름', '몸무게']\n",
    "\n",
    "data.loc[data['몸무게'].isnull(), cols]"
   ]
  },
  {
   "cell_type": "code",
   "execution_count": null,
   "metadata": {},
   "outputs": [],
   "source": []
  },
  {
   "cell_type": "code",
   "execution_count": 117,
   "metadata": {},
   "outputs": [
    {
     "data": {
      "text/html": [
       "<div>\n",
       "<style scoped>\n",
       "    .dataframe tbody tr th:only-of-type {\n",
       "        vertical-align: middle;\n",
       "    }\n",
       "\n",
       "    .dataframe tbody tr th {\n",
       "        vertical-align: top;\n",
       "    }\n",
       "\n",
       "    .dataframe thead th {\n",
       "        text-align: right;\n",
       "    }\n",
       "</style>\n",
       "<table border=\"1\" class=\"dataframe\">\n",
       "  <thead>\n",
       "    <tr style=\"text-align: right;\">\n",
       "      <th></th>\n",
       "      <th>이름</th>\n",
       "      <th>몸무게</th>\n",
       "    </tr>\n",
       "    <tr>\n",
       "      <th>회차</th>\n",
       "      <th></th>\n",
       "      <th></th>\n",
       "    </tr>\n",
       "  </thead>\n",
       "  <tbody>\n",
       "    <tr>\n",
       "      <td>1</td>\n",
       "      <td>강성희</td>\n",
       "      <td>76.4</td>\n",
       "    </tr>\n",
       "    <tr>\n",
       "      <td>2</td>\n",
       "      <td>강성희</td>\n",
       "      <td>75.7</td>\n",
       "    </tr>\n",
       "    <tr>\n",
       "      <td>3</td>\n",
       "      <td>강성희</td>\n",
       "      <td>76.0</td>\n",
       "    </tr>\n",
       "    <tr>\n",
       "      <td>5</td>\n",
       "      <td>강성희</td>\n",
       "      <td>76.2</td>\n",
       "    </tr>\n",
       "    <tr>\n",
       "      <td>6</td>\n",
       "      <td>강성희</td>\n",
       "      <td>75.7</td>\n",
       "    </tr>\n",
       "    <tr>\n",
       "      <td>9</td>\n",
       "      <td>강성희</td>\n",
       "      <td>75.0</td>\n",
       "    </tr>\n",
       "  </tbody>\n",
       "</table>\n",
       "</div>"
      ],
      "text/plain": [
       "     이름   몸무게\n",
       "회차           \n",
       "1   강성희  76.4\n",
       "2   강성희  75.7\n",
       "3   강성희  76.0\n",
       "5   강성희  76.2\n",
       "6   강성희  75.7\n",
       "9   강성희  75.0"
      ]
     },
     "execution_count": 117,
     "metadata": {},
     "output_type": "execute_result"
    }
   ],
   "source": [
    "cols = ['이름', '몸무게']\n",
    "\n",
    "data.loc[data['몸무게'].notnull(), cols]\n",
    "\n",
    "# isnull = notnull\n",
    "# 아니면 물결 (~) 넣어주기\n"
   ]
  },
  {
   "cell_type": "code",
   "execution_count": 118,
   "metadata": {},
   "outputs": [
    {
     "data": {
      "text/html": [
       "<div>\n",
       "<style scoped>\n",
       "    .dataframe tbody tr th:only-of-type {\n",
       "        vertical-align: middle;\n",
       "    }\n",
       "\n",
       "    .dataframe tbody tr th {\n",
       "        vertical-align: top;\n",
       "    }\n",
       "\n",
       "    .dataframe thead th {\n",
       "        text-align: right;\n",
       "    }\n",
       "</style>\n",
       "<table border=\"1\" class=\"dataframe\">\n",
       "  <thead>\n",
       "    <tr style=\"text-align: right;\">\n",
       "      <th></th>\n",
       "      <th>이름</th>\n",
       "      <th>몸무게</th>\n",
       "    </tr>\n",
       "    <tr>\n",
       "      <th>회차</th>\n",
       "      <th></th>\n",
       "      <th></th>\n",
       "    </tr>\n",
       "  </thead>\n",
       "  <tbody>\n",
       "    <tr>\n",
       "      <td>1</td>\n",
       "      <td>강성희</td>\n",
       "      <td>76.4</td>\n",
       "    </tr>\n",
       "    <tr>\n",
       "      <td>2</td>\n",
       "      <td>강성희</td>\n",
       "      <td>75.7</td>\n",
       "    </tr>\n",
       "    <tr>\n",
       "      <td>3</td>\n",
       "      <td>강성희</td>\n",
       "      <td>76.0</td>\n",
       "    </tr>\n",
       "    <tr>\n",
       "      <td>5</td>\n",
       "      <td>강성희</td>\n",
       "      <td>76.2</td>\n",
       "    </tr>\n",
       "    <tr>\n",
       "      <td>6</td>\n",
       "      <td>강성희</td>\n",
       "      <td>75.7</td>\n",
       "    </tr>\n",
       "    <tr>\n",
       "      <td>9</td>\n",
       "      <td>강성희</td>\n",
       "      <td>75.0</td>\n",
       "    </tr>\n",
       "  </tbody>\n",
       "</table>\n",
       "</div>"
      ],
      "text/plain": [
       "     이름   몸무게\n",
       "회차           \n",
       "1   강성희  76.4\n",
       "2   강성희  75.7\n",
       "3   강성희  76.0\n",
       "5   강성희  76.2\n",
       "6   강성희  75.7\n",
       "9   강성희  75.0"
      ]
     },
     "execution_count": 118,
     "metadata": {},
     "output_type": "execute_result"
    }
   ],
   "source": [
    "cols = ['이름', '몸무게']\n",
    "\n",
    "data.loc[~data['몸무게'].isnull(), cols]"
   ]
  },
  {
   "cell_type": "code",
   "execution_count": 119,
   "metadata": {},
   "outputs": [],
   "source": [
    "# 기능 끌어오기 [.]"
   ]
  },
  {
   "cell_type": "markdown",
   "metadata": {},
   "source": [
    "### 행열 추가 / 수정"
   ]
  },
  {
   "cell_type": "code",
   "execution_count": 124,
   "metadata": {},
   "outputs": [
    {
     "data": {
      "text/plain": [
       "회차\n",
       "1    좋음\n",
       "2    좋음\n",
       "3    좋음\n",
       "4    좋음\n",
       "5    좋음\n",
       "6    좋음\n",
       "7    좋음\n",
       "8    좋음\n",
       "9    좋음\n",
       "Name: 날씨, dtype: object"
      ]
     },
     "execution_count": 124,
     "metadata": {},
     "output_type": "execute_result"
    }
   ],
   "source": [
    "data['날씨']"
   ]
  },
  {
   "cell_type": "code",
   "execution_count": 127,
   "metadata": {},
   "outputs": [
    {
     "data": {
      "text/html": [
       "<div>\n",
       "<style scoped>\n",
       "    .dataframe tbody tr th:only-of-type {\n",
       "        vertical-align: middle;\n",
       "    }\n",
       "\n",
       "    .dataframe tbody tr th {\n",
       "        vertical-align: top;\n",
       "    }\n",
       "\n",
       "    .dataframe thead th {\n",
       "        text-align: right;\n",
       "    }\n",
       "</style>\n",
       "<table border=\"1\" class=\"dataframe\">\n",
       "  <thead>\n",
       "    <tr style=\"text-align: right;\">\n",
       "      <th></th>\n",
       "      <th>이름</th>\n",
       "      <th>측정일</th>\n",
       "      <th>몸무게</th>\n",
       "      <th>단위</th>\n",
       "      <th>담당</th>\n",
       "      <th>지점</th>\n",
       "      <th>날씨</th>\n",
       "      <th>결제여부</th>\n",
       "    </tr>\n",
       "    <tr>\n",
       "      <th>회차</th>\n",
       "      <th></th>\n",
       "      <th></th>\n",
       "      <th></th>\n",
       "      <th></th>\n",
       "      <th></th>\n",
       "      <th></th>\n",
       "      <th></th>\n",
       "      <th></th>\n",
       "    </tr>\n",
       "  </thead>\n",
       "  <tbody>\n",
       "    <tr>\n",
       "      <td>1</td>\n",
       "      <td>강성희</td>\n",
       "      <td>2019-01-01</td>\n",
       "      <td>76.4</td>\n",
       "      <td>kg</td>\n",
       "      <td>김지수</td>\n",
       "      <td>강남</td>\n",
       "      <td>좋음</td>\n",
       "      <td>True</td>\n",
       "    </tr>\n",
       "    <tr>\n",
       "      <td>2</td>\n",
       "      <td>강성희</td>\n",
       "      <td>2019-01-02</td>\n",
       "      <td>75.7</td>\n",
       "      <td>kg</td>\n",
       "      <td>김지수</td>\n",
       "      <td>강남</td>\n",
       "      <td>좋음</td>\n",
       "      <td>False</td>\n",
       "    </tr>\n",
       "    <tr>\n",
       "      <td>3</td>\n",
       "      <td>강성희</td>\n",
       "      <td>2019-01-03</td>\n",
       "      <td>76.0</td>\n",
       "      <td>kg</td>\n",
       "      <td>김지수</td>\n",
       "      <td>강남</td>\n",
       "      <td>좋음</td>\n",
       "      <td>True</td>\n",
       "    </tr>\n",
       "    <tr>\n",
       "      <td>4</td>\n",
       "      <td>강성희</td>\n",
       "      <td>2019-01-04</td>\n",
       "      <td>NaN</td>\n",
       "      <td>kg</td>\n",
       "      <td>최재우</td>\n",
       "      <td>여의도</td>\n",
       "      <td>좋음</td>\n",
       "      <td>True</td>\n",
       "    </tr>\n",
       "    <tr>\n",
       "      <td>5</td>\n",
       "      <td>강성희</td>\n",
       "      <td>2019-01-05</td>\n",
       "      <td>76.2</td>\n",
       "      <td>kg</td>\n",
       "      <td>김지수</td>\n",
       "      <td>강남</td>\n",
       "      <td>좋음</td>\n",
       "      <td>True</td>\n",
       "    </tr>\n",
       "    <tr>\n",
       "      <td>6</td>\n",
       "      <td>강성희</td>\n",
       "      <td>2019-01-06</td>\n",
       "      <td>75.7</td>\n",
       "      <td>kg</td>\n",
       "      <td>최재우</td>\n",
       "      <td>여의도</td>\n",
       "      <td>좋음</td>\n",
       "      <td>True</td>\n",
       "    </tr>\n",
       "    <tr>\n",
       "      <td>7</td>\n",
       "      <td>강성희</td>\n",
       "      <td>2019-01-07</td>\n",
       "      <td>NaN</td>\n",
       "      <td>kg</td>\n",
       "      <td>최재우</td>\n",
       "      <td>여의도</td>\n",
       "      <td>좋음</td>\n",
       "      <td>True</td>\n",
       "    </tr>\n",
       "    <tr>\n",
       "      <td>8</td>\n",
       "      <td>강성희</td>\n",
       "      <td>2019-01-08</td>\n",
       "      <td>NaN</td>\n",
       "      <td>kg</td>\n",
       "      <td>김민철</td>\n",
       "      <td>여의도</td>\n",
       "      <td>좋음</td>\n",
       "      <td>True</td>\n",
       "    </tr>\n",
       "    <tr>\n",
       "      <td>9</td>\n",
       "      <td>강성희</td>\n",
       "      <td>2019-01-09</td>\n",
       "      <td>75.0</td>\n",
       "      <td>kg</td>\n",
       "      <td>김민철</td>\n",
       "      <td>여의도</td>\n",
       "      <td>좋음</td>\n",
       "      <td>True</td>\n",
       "    </tr>\n",
       "  </tbody>\n",
       "</table>\n",
       "</div>"
      ],
      "text/plain": [
       "     이름         측정일   몸무게  단위   담당   지점  날씨   결제여부\n",
       "회차                                                \n",
       "1   강성희  2019-01-01  76.4  kg  김지수   강남  좋음   True\n",
       "2   강성희  2019-01-02  75.7  kg  김지수   강남  좋음  False\n",
       "3   강성희  2019-01-03  76.0  kg  김지수   강남  좋음   True\n",
       "4   강성희  2019-01-04   NaN  kg  최재우  여의도  좋음   True\n",
       "5   강성희  2019-01-05  76.2  kg  김지수   강남  좋음   True\n",
       "6   강성희  2019-01-06  75.7  kg  최재우  여의도  좋음   True\n",
       "7   강성희  2019-01-07   NaN  kg  최재우  여의도  좋음   True\n",
       "8   강성희  2019-01-08   NaN  kg  김민철  여의도  좋음   True\n",
       "9   강성희  2019-01-09  75.0  kg  김민철  여의도  좋음   True"
      ]
     },
     "execution_count": 127,
     "metadata": {},
     "output_type": "execute_result"
    }
   ],
   "source": [
    "data['결제여부'] = [True, False,True, True, True, True, True, True, True]\n",
    "\n",
    "data"
   ]
  },
  {
   "cell_type": "code",
   "execution_count": 129,
   "metadata": {},
   "outputs": [
    {
     "data": {
      "text/plain": [
       "회차\n",
       "1     True\n",
       "2    False\n",
       "3    False\n",
       "4    False\n",
       "5     True\n",
       "6    False\n",
       "7    False\n",
       "8    False\n",
       "9    False\n",
       "Name: 몸무게, dtype: bool"
      ]
     },
     "execution_count": 129,
     "metadata": {},
     "output_type": "execute_result"
    }
   ],
   "source": [
    "data['몸무게'] > 76\n",
    "# 몸무게가 76이상이다 --> 과체중 \"추가\""
   ]
  },
  {
   "cell_type": "code",
   "execution_count": 130,
   "metadata": {},
   "outputs": [
    {
     "data": {
      "text/html": [
       "<div>\n",
       "<style scoped>\n",
       "    .dataframe tbody tr th:only-of-type {\n",
       "        vertical-align: middle;\n",
       "    }\n",
       "\n",
       "    .dataframe tbody tr th {\n",
       "        vertical-align: top;\n",
       "    }\n",
       "\n",
       "    .dataframe thead th {\n",
       "        text-align: right;\n",
       "    }\n",
       "</style>\n",
       "<table border=\"1\" class=\"dataframe\">\n",
       "  <thead>\n",
       "    <tr style=\"text-align: right;\">\n",
       "      <th></th>\n",
       "      <th>몸무게</th>\n",
       "      <th>과체중</th>\n",
       "    </tr>\n",
       "    <tr>\n",
       "      <th>회차</th>\n",
       "      <th></th>\n",
       "      <th></th>\n",
       "    </tr>\n",
       "  </thead>\n",
       "  <tbody>\n",
       "    <tr>\n",
       "      <td>1</td>\n",
       "      <td>76.4</td>\n",
       "      <td>True</td>\n",
       "    </tr>\n",
       "    <tr>\n",
       "      <td>2</td>\n",
       "      <td>75.7</td>\n",
       "      <td>False</td>\n",
       "    </tr>\n",
       "    <tr>\n",
       "      <td>3</td>\n",
       "      <td>76.0</td>\n",
       "      <td>False</td>\n",
       "    </tr>\n",
       "    <tr>\n",
       "      <td>4</td>\n",
       "      <td>NaN</td>\n",
       "      <td>False</td>\n",
       "    </tr>\n",
       "    <tr>\n",
       "      <td>5</td>\n",
       "      <td>76.2</td>\n",
       "      <td>True</td>\n",
       "    </tr>\n",
       "    <tr>\n",
       "      <td>6</td>\n",
       "      <td>75.7</td>\n",
       "      <td>False</td>\n",
       "    </tr>\n",
       "    <tr>\n",
       "      <td>7</td>\n",
       "      <td>NaN</td>\n",
       "      <td>False</td>\n",
       "    </tr>\n",
       "    <tr>\n",
       "      <td>8</td>\n",
       "      <td>NaN</td>\n",
       "      <td>False</td>\n",
       "    </tr>\n",
       "    <tr>\n",
       "      <td>9</td>\n",
       "      <td>75.0</td>\n",
       "      <td>False</td>\n",
       "    </tr>\n",
       "  </tbody>\n",
       "</table>\n",
       "</div>"
      ],
      "text/plain": [
       "     몸무게    과체중\n",
       "회차             \n",
       "1   76.4   True\n",
       "2   75.7  False\n",
       "3   76.0  False\n",
       "4    NaN  False\n",
       "5   76.2   True\n",
       "6   75.7  False\n",
       "7    NaN  False\n",
       "8    NaN  False\n",
       "9   75.0  False"
      ]
     },
     "execution_count": 130,
     "metadata": {},
     "output_type": "execute_result"
    }
   ],
   "source": [
    "data['과체중']  = data['몸무게'] > 76\n",
    "\n",
    "cols = ['몸무게', '과체중']\n",
    "data[cols]"
   ]
  },
  {
   "cell_type": "code",
   "execution_count": 137,
   "metadata": {},
   "outputs": [
    {
     "data": {
      "text/html": [
       "<div>\n",
       "<style scoped>\n",
       "    .dataframe tbody tr th:only-of-type {\n",
       "        vertical-align: middle;\n",
       "    }\n",
       "\n",
       "    .dataframe tbody tr th {\n",
       "        vertical-align: top;\n",
       "    }\n",
       "\n",
       "    .dataframe thead th {\n",
       "        text-align: right;\n",
       "    }\n",
       "</style>\n",
       "<table border=\"1\" class=\"dataframe\">\n",
       "  <thead>\n",
       "    <tr style=\"text-align: right;\">\n",
       "      <th></th>\n",
       "      <th>몸무게</th>\n",
       "      <th>상태</th>\n",
       "    </tr>\n",
       "    <tr>\n",
       "      <th>회차</th>\n",
       "      <th></th>\n",
       "      <th></th>\n",
       "    </tr>\n",
       "  </thead>\n",
       "  <tbody>\n",
       "    <tr>\n",
       "      <td>1</td>\n",
       "      <td>76.4</td>\n",
       "      <td>과체중</td>\n",
       "    </tr>\n",
       "    <tr>\n",
       "      <td>2</td>\n",
       "      <td>75.7</td>\n",
       "      <td>NaN</td>\n",
       "    </tr>\n",
       "    <tr>\n",
       "      <td>3</td>\n",
       "      <td>76.0</td>\n",
       "      <td>NaN</td>\n",
       "    </tr>\n",
       "    <tr>\n",
       "      <td>4</td>\n",
       "      <td>NaN</td>\n",
       "      <td>NaN</td>\n",
       "    </tr>\n",
       "    <tr>\n",
       "      <td>5</td>\n",
       "      <td>76.2</td>\n",
       "      <td>과체중</td>\n",
       "    </tr>\n",
       "    <tr>\n",
       "      <td>6</td>\n",
       "      <td>75.7</td>\n",
       "      <td>NaN</td>\n",
       "    </tr>\n",
       "    <tr>\n",
       "      <td>7</td>\n",
       "      <td>NaN</td>\n",
       "      <td>NaN</td>\n",
       "    </tr>\n",
       "    <tr>\n",
       "      <td>8</td>\n",
       "      <td>NaN</td>\n",
       "      <td>NaN</td>\n",
       "    </tr>\n",
       "    <tr>\n",
       "      <td>9</td>\n",
       "      <td>75.0</td>\n",
       "      <td>NaN</td>\n",
       "    </tr>\n",
       "  </tbody>\n",
       "</table>\n",
       "</div>"
      ],
      "text/plain": [
       "     몸무게   상태\n",
       "회차           \n",
       "1   76.4  과체중\n",
       "2   75.7  NaN\n",
       "3   76.0  NaN\n",
       "4    NaN  NaN\n",
       "5   76.2  과체중\n",
       "6   75.7  NaN\n",
       "7    NaN  NaN\n",
       "8    NaN  NaN\n",
       "9   75.0  NaN"
      ]
     },
     "execution_count": 137,
     "metadata": {},
     "output_type": "execute_result"
    }
   ],
   "source": [
    "data.loc[data['몸무게'] > 76, '상태'] = '과체중'\n",
    "\n",
    "cols = ['몸무게', '상태']\n",
    "data[cols]"
   ]
  },
  {
   "cell_type": "code",
   "execution_count": 139,
   "metadata": {},
   "outputs": [
    {
     "data": {
      "text/html": [
       "<div>\n",
       "<style scoped>\n",
       "    .dataframe tbody tr th:only-of-type {\n",
       "        vertical-align: middle;\n",
       "    }\n",
       "\n",
       "    .dataframe tbody tr th {\n",
       "        vertical-align: top;\n",
       "    }\n",
       "\n",
       "    .dataframe thead th {\n",
       "        text-align: right;\n",
       "    }\n",
       "</style>\n",
       "<table border=\"1\" class=\"dataframe\">\n",
       "  <thead>\n",
       "    <tr style=\"text-align: right;\">\n",
       "      <th></th>\n",
       "      <th>몸무게</th>\n",
       "      <th>상태</th>\n",
       "    </tr>\n",
       "    <tr>\n",
       "      <th>회차</th>\n",
       "      <th></th>\n",
       "      <th></th>\n",
       "    </tr>\n",
       "  </thead>\n",
       "  <tbody>\n",
       "    <tr>\n",
       "      <td>1</td>\n",
       "      <td>76.4</td>\n",
       "      <td>과체중</td>\n",
       "    </tr>\n",
       "    <tr>\n",
       "      <td>2</td>\n",
       "      <td>75.7</td>\n",
       "      <td>정상체중</td>\n",
       "    </tr>\n",
       "    <tr>\n",
       "      <td>3</td>\n",
       "      <td>76.0</td>\n",
       "      <td>정상체중</td>\n",
       "    </tr>\n",
       "    <tr>\n",
       "      <td>4</td>\n",
       "      <td>NaN</td>\n",
       "      <td>정상체중</td>\n",
       "    </tr>\n",
       "    <tr>\n",
       "      <td>5</td>\n",
       "      <td>76.2</td>\n",
       "      <td>과체중</td>\n",
       "    </tr>\n",
       "    <tr>\n",
       "      <td>6</td>\n",
       "      <td>75.7</td>\n",
       "      <td>정상체중</td>\n",
       "    </tr>\n",
       "    <tr>\n",
       "      <td>7</td>\n",
       "      <td>NaN</td>\n",
       "      <td>정상체중</td>\n",
       "    </tr>\n",
       "    <tr>\n",
       "      <td>8</td>\n",
       "      <td>NaN</td>\n",
       "      <td>정상체중</td>\n",
       "    </tr>\n",
       "    <tr>\n",
       "      <td>9</td>\n",
       "      <td>75.0</td>\n",
       "      <td>정상체중</td>\n",
       "    </tr>\n",
       "  </tbody>\n",
       "</table>\n",
       "</div>"
      ],
      "text/plain": [
       "     몸무게    상태\n",
       "회차            \n",
       "1   76.4   과체중\n",
       "2   75.7  정상체중\n",
       "3   76.0  정상체중\n",
       "4    NaN  정상체중\n",
       "5   76.2   과체중\n",
       "6   75.7  정상체중\n",
       "7    NaN  정상체중\n",
       "8    NaN  정상체중\n",
       "9   75.0  정상체중"
      ]
     },
     "execution_count": 139,
     "metadata": {},
     "output_type": "execute_result"
    }
   ],
   "source": [
    "# NaN 값 채우기\n",
    "\n",
    "data.loc[~(data['몸무게'] > 76), '상태'] = '정상체중'\n",
    "# 물결치고 꼭 소괄호로 영역지정하기\n",
    "\n",
    "\n",
    "cols = ['몸무게', '상태']\n",
    "data[cols]"
   ]
  }
 ],
 "metadata": {
  "kernelspec": {
   "display_name": "Python 3",
   "language": "python",
   "name": "python3"
  },
  "language_info": {
   "codemirror_mode": {
    "name": "ipython",
    "version": 3
   },
   "file_extension": ".py",
   "mimetype": "text/x-python",
   "name": "python",
   "nbconvert_exporter": "python",
   "pygments_lexer": "ipython3",
   "version": "3.8.5"
  }
 },
 "nbformat": 4,
 "nbformat_minor": 2
}
