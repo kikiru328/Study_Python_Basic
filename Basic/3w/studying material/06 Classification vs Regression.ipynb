{
 "cells": [
  {
   "cell_type": "markdown",
   "metadata": {},
   "source": [
    "# Classification vs Regression"
   ]
  },
  {
   "cell_type": "markdown",
   "metadata": {},
   "source": [
    "* 맞춰야 하는 정답(Label, y)이 categorical하면 (특정 분류 중에 하나) Classification 문제라고 정의합니다\n",
    "* 반면 맞춰야 하는 정답이 continuous하면 (높고 낮음을 비교할 수 있는 숫자) Regression 문제라고 정의합니다\n",
    "* Classification (암 환자 예측 +/- , 스팸 필터일 예측, 광고성 게시물 예측  --> Categorical Data ( y = 0 or 1)\n",
    "* Regression (부동산 가격 예측, 삼성전자 주가 예측, 비트코인 가격 예측) --> Continuous Data (y = -무한 ~ +무한)\n",
    "* Classification 문제 = DecisionTreeClassifier\n",
    "* Regression 문제 = DecisionTreeRegressor"
   ]
  }
 ],
 "metadata": {
  "kernelspec": {
   "display_name": "Python 3",
   "language": "python",
   "name": "python3"
  },
  "language_info": {
   "codemirror_mode": {
    "name": "ipython",
    "version": 3
   },
   "file_extension": ".py",
   "mimetype": "text/x-python",
   "name": "python",
   "nbconvert_exporter": "python",
   "pygments_lexer": "ipython3",
   "version": "3.7.4"
  }
 },
 "nbformat": 4,
 "nbformat_minor": 2
}
