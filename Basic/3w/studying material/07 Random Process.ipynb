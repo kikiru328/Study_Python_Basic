{
 "cells": [
  {
   "cell_type": "markdown",
   "metadata": {},
   "source": [
    "# Bagging (Bootstrap aggregating)"
   ]
  },
  {
   "cell_type": "markdown",
   "metadata": {},
   "source": [
    "* 먼저 원본 데이터가 주어졌을 때, 이 데이터를 복원추출(Sampling with replacement)합니다.\n",
    "* 복원추출이라 함은 데이터를 랜덤 샘플링하되, 중복을 허용하면서 랜덤하게 샘플링 하는 것입니다.\n",
    "* 이렇게 추출된 각각의 경우의 수를 DecisionTree에 적용, 이 트리들 여러 개를 섞어서 사용하는 것을 바로 Random Forest라 합니다."
   ]
  }
 ],
 "metadata": {
  "kernelspec": {
   "display_name": "Python 3",
   "language": "python",
   "name": "python3"
  },
  "language_info": {
   "codemirror_mode": {
    "name": "ipython",
    "version": 3
   },
   "file_extension": ".py",
   "mimetype": "text/x-python",
   "name": "python",
   "nbconvert_exporter": "python",
   "pygments_lexer": "ipython3",
   "version": "3.7.4"
  }
 },
 "nbformat": 4,
 "nbformat_minor": 2
}
