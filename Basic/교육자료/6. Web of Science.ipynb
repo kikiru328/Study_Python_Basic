{
 "cells": [
  {
   "cell_type": "markdown",
   "metadata": {},
   "source": [
    "# Web of Science\n",
    "- 학술 데이터베이스 Web of Science에서 자료를 수집하는 코드 구현  \n",
    "- 학내 정책상 자동화된 프로그램을 이용해서 학술 데이터에 접근하는 것은 서버 과부화를 야기하기 때문에 무분별하게 사용하면 문제발생\n",
    "(사용하지 않는 것을 권고, 사용하는 경우 도서관 사이트관리자와 충분히 상의하기)  \n",
    "- 작업에 앞서 본인이 학술 데이터베이스를 사용하는 과정에 대해 고민\n",
    "\n",
    "### [작업과정]  \n",
    "(1) 경희대학교 중앙도서관 접속 및 로그인  \n",
    "(2) 학술 데이터베이스 로그인  \n",
    "(3) 검색어 검색  \n",
    "(4) 카테고리 선택  \n",
    "(5) paper 수집  "
   ]
  },
  {
   "cell_type": "code",
   "execution_count": 34,
   "metadata": {},
   "outputs": [],
   "source": [
    "from selenium import webdriver\n",
    "from time import sleep\n",
    "from random import randint\n",
    "from tqdm import tqdm\n",
    "import time\n",
    "import pandas as pd\n",
    "import sys"
   ]
  },
  {
   "cell_type": "code",
   "execution_count": 9,
   "metadata": {
    "scrolled": false
   },
   "outputs": [],
   "source": [
    "# print(sys.path)"
   ]
  },
  {
   "cell_type": "code",
   "execution_count": 10,
   "metadata": {},
   "outputs": [],
   "source": [
    "sys.path.append('/Users/jiwonjang/python_tutorial/ve_env/') # 시스템 경로 추가"
   ]
  },
  {
   "cell_type": "code",
   "execution_count": 4,
   "metadata": {},
   "outputs": [],
   "source": [
    "# for i in sys.path:\n",
    "#     print(i)"
   ]
  },
  {
   "cell_type": "code",
   "execution_count": 11,
   "metadata": {},
   "outputs": [],
   "source": [
    "import info21"
   ]
  },
  {
   "cell_type": "code",
   "execution_count": 12,
   "metadata": {},
   "outputs": [],
   "source": [
    "info21ID = info21.infoID # info21 id\n",
    "info21PW = info21.infoPassward # info21 password"
   ]
  },
  {
   "cell_type": "markdown",
   "metadata": {},
   "source": [
    "# Web of Science 접속"
   ]
  },
  {
   "cell_type": "code",
   "execution_count": 13,
   "metadata": {},
   "outputs": [],
   "source": [
    "### access 'web of science'\n",
    "chromeDir = '/Users/jiwonjang/python_tutorial/chromedriver' # driver directory\n",
    "driver = webdriver.Chrome(chromeDir)\n",
    "driver.implicitly_wait(1)"
   ]
  },
  {
   "cell_type": "code",
   "execution_count": 14,
   "metadata": {},
   "outputs": [],
   "source": [
    "# connect khu library\n",
    "univ_url = 'https://external.khu.ac.kr/sns/login.php?return_url=https%3A%2F%2Flibrary.khu.ac.kr%2Fseoul&campus=seoul'\n",
    "driver.get(univ_url) \n",
    "time.sleep(1)"
   ]
  },
  {
   "cell_type": "code",
   "execution_count": 15,
   "metadata": {},
   "outputs": [],
   "source": [
    "# khu library login\n",
    "driver.find_element_by_xpath('//*[@id=\"inputEmail3\"]').send_keys(info21ID) \n",
    "driver.find_element_by_xpath('//*[@id=\"inputPassword3\"]').send_keys(info21PW)\n",
    "driver.find_element_by_xpath('/html/body/div/div[1]/div/div/form/div[3]/div/button').click()"
   ]
  },
  {
   "cell_type": "code",
   "execution_count": 16,
   "metadata": {},
   "outputs": [],
   "source": [
    "# connect web of science \n",
    "driver.get('http://access.openlink.khu.ac.kr/link.n2s?url=http://isiknowledge.com/wos')"
   ]
  },
  {
   "cell_type": "code",
   "execution_count": 17,
   "metadata": {},
   "outputs": [
    {
     "data": {
      "text/plain": [
       "'http://apps.webofknowledge.com/WOS_GeneralSearch_input.do?product=WOS&search_mode=GeneralSearch&SID=E5UV1VWnPVHpllSChAp&preferencesSaved='"
      ]
     },
     "execution_count": 17,
     "metadata": {},
     "output_type": "execute_result"
    }
   ],
   "source": [
    "driver.current_url"
   ]
  },
  {
   "cell_type": "markdown",
   "metadata": {},
   "source": [
    "# Query 검색"
   ]
  },
  {
   "cell_type": "code",
   "execution_count": 18,
   "metadata": {},
   "outputs": [
    {
     "name": "stdout",
     "output_type": "stream",
     "text": [
      "sid id: E5UV1VWnPVHpllSChAp\n"
     ]
    }
   ],
   "source": [
    "sid_id = driver.find_element_by_id('SID').get_attribute('value') # url 구성을 위한 sid id 생성\n",
    "print('sid id:', sid_id)"
   ]
  },
  {
   "cell_type": "code",
   "execution_count": 19,
   "metadata": {},
   "outputs": [
    {
     "name": "stdout",
     "output_type": "stream",
     "text": [
      "reinforcement learning\n"
     ]
    }
   ],
   "source": [
    "time.sleep(2)\n",
    "query = 'reinforcement learning'\n",
    "print(query)\n",
    "driver.find_element_by_id('value(input1)').send_keys(query)\n",
    "time.sleep(1)"
   ]
  },
  {
   "cell_type": "code",
   "execution_count": 20,
   "metadata": {},
   "outputs": [],
   "source": [
    "driver.find_element_by_xpath('//*[@id=\"searchCell1\"]/span[1]/button').click() # query click"
   ]
  },
  {
   "cell_type": "code",
   "execution_count": 21,
   "metadata": {},
   "outputs": [],
   "source": [
    "# go to the category page\n",
    "WOS_category_url = 'http://apps.webofknowledge.com.openlink.khu.ac.kr:8080/RAMore.do?product=WOS&search_mode=GeneralSearch&' + sid_id + '&qid=1&ra_mode=more&ra_name=JCRCategories&colName=WOS&viewType=raMore'\n",
    "driver.get(WOS_category_url)"
   ]
  },
  {
   "cell_type": "code",
   "execution_count": 22,
   "metadata": {},
   "outputs": [],
   "source": [
    "# 관심항목 체크\n",
    "driver.find_element_by_xpath('//*[@id=\"TASCA_2\"]').click() # computer science"
   ]
  },
  {
   "cell_type": "code",
   "execution_count": 23,
   "metadata": {},
   "outputs": [],
   "source": [
    "# 관심항목 체크 후 하단 범위재설정 클릭\n",
    "driver.find_element_by_xpath('//*[@id=\"raMore\"]/table/tbody/tr[1]/td/table/tbody/tr/td[2]/div/button').click()"
   ]
  },
  {
   "cell_type": "code",
   "execution_count": 24,
   "metadata": {},
   "outputs": [
    {
     "name": "stdout",
     "output_type": "stream",
     "text": [
      "http://apps.webofknowledge.com/Search.do?product=WOS&SID=E5UV1VWnPVHpllSChAp&search_mode=GeneralSearch&prID=92a2945d-0b4e-4d1a-bbd3-8a529f8a9001\n"
     ]
    }
   ],
   "source": [
    "print(driver.current_url)"
   ]
  },
  {
   "cell_type": "code",
   "execution_count": 25,
   "metadata": {},
   "outputs": [],
   "source": [
    "# 순회할 수 있는 url을 얻기 위해 다음 페이지 선택\n",
    "driver.find_element_by_xpath('//*[@id=\"summary_navigation\"]/nav/table/tbody/tr/td[3]/a').click()"
   ]
  },
  {
   "cell_type": "code",
   "execution_count": 26,
   "metadata": {},
   "outputs": [
    {
     "name": "stdout",
     "output_type": "stream",
     "text": [
      "http://apps.webofknowledge.com/summary.do?product=WOS&parentProduct=WOS&search_mode=GeneralSearch&parentQid=1&qid=2&SID=E5UV1VWnPVHpllSChAp&colName=WOS&&update_back2search_link_param=yes&page=2\n"
     ]
    }
   ],
   "source": [
    "print(driver.current_url)"
   ]
  },
  {
   "cell_type": "markdown",
   "metadata": {},
   "source": [
    "# 논문 수집"
   ]
  },
  {
   "cell_type": "code",
   "execution_count": 27,
   "metadata": {},
   "outputs": [],
   "source": [
    "base_url = driver.current_url[:-1] # 기존 url 도출"
   ]
  },
  {
   "cell_type": "code",
   "execution_count": 28,
   "metadata": {},
   "outputs": [
    {
     "name": "stdout",
     "output_type": "stream",
     "text": [
      "http://apps.webofknowledge.com/summary.do?product=WOS&parentProduct=WOS&search_mode=GeneralSearch&parentQid=1&qid=2&SID=E5UV1VWnPVHpllSChAp&colName=WOS&&update_back2search_link_param=yes&page=\n"
     ]
    }
   ],
   "source": [
    "print(base_url)"
   ]
  },
  {
   "cell_type": "code",
   "execution_count": 29,
   "metadata": {},
   "outputs": [],
   "source": [
    "New_post_list = []\n",
    "pageNumber = 2\n",
    "for i in range(1, pageNumber+1): \n",
    "    new_post_list_url = base_url + str(i)\n",
    "    New_post_list.append(new_post_list_url)"
   ]
  },
  {
   "cell_type": "code",
   "execution_count": 30,
   "metadata": {},
   "outputs": [
    {
     "data": {
      "text/plain": [
       "['http://apps.webofknowledge.com/summary.do?product=WOS&parentProduct=WOS&search_mode=GeneralSearch&parentQid=1&qid=2&SID=E5UV1VWnPVHpllSChAp&colName=WOS&&update_back2search_link_param=yes&page=1',\n",
       " 'http://apps.webofknowledge.com/summary.do?product=WOS&parentProduct=WOS&search_mode=GeneralSearch&parentQid=1&qid=2&SID=E5UV1VWnPVHpllSChAp&colName=WOS&&update_back2search_link_param=yes&page=2']"
      ]
     },
     "execution_count": 30,
     "metadata": {},
     "output_type": "execute_result"
    }
   ],
   "source": [
    "New_post_list"
   ]
  },
  {
   "cell_type": "code",
   "execution_count": 31,
   "metadata": {},
   "outputs": [
    {
     "name": "stdout",
     "output_type": "stream",
     "text": [
      "page search finish ----------------------------------------------\n"
     ]
    }
   ],
   "source": [
    "Paper_href_list = []\n",
    "for new_url in New_post_list:\n",
    "    driver.get(new_url)\n",
    "    sleep(randint(1,3))\n",
    "    \n",
    "    paper_hrefs = driver.find_elements_by_css_selector('div.search-results-content > div:nth-child(1) > div > a')\n",
    "    \n",
    "    for href in paper_hrefs:\n",
    "        paper_title_url = href.get_attribute('href')\n",
    "        Paper_href_list.append(paper_title_url)\n",
    "\n",
    "print('page search finish ----------------------------------------------')"
   ]
  },
  {
   "cell_type": "code",
   "execution_count": 32,
   "metadata": {
    "scrolled": true
   },
   "outputs": [
    {
     "data": {
      "text/plain": [
       "['http://apps.webofknowledge.com/full_record.do?product=WOS&search_mode=GeneralSearch&qid=2&SID=E5UV1VWnPVHpllSChAp&page=1&doc=1',\n",
       " 'http://apps.webofknowledge.com/full_record.do?product=WOS&search_mode=GeneralSearch&qid=2&SID=E5UV1VWnPVHpllSChAp&page=1&doc=2',\n",
       " 'http://apps.webofknowledge.com/full_record.do?product=WOS&search_mode=GeneralSearch&qid=2&SID=E5UV1VWnPVHpllSChAp&page=1&doc=3',\n",
       " 'http://apps.webofknowledge.com/full_record.do?product=WOS&search_mode=GeneralSearch&qid=2&SID=E5UV1VWnPVHpllSChAp&page=1&doc=4',\n",
       " 'http://apps.webofknowledge.com/full_record.do?product=WOS&search_mode=GeneralSearch&qid=2&SID=E5UV1VWnPVHpllSChAp&page=1&doc=5',\n",
       " 'http://apps.webofknowledge.com/full_record.do?product=WOS&search_mode=GeneralSearch&qid=2&SID=E5UV1VWnPVHpllSChAp&page=1&doc=6',\n",
       " 'http://apps.webofknowledge.com/full_record.do?product=WOS&search_mode=GeneralSearch&qid=2&SID=E5UV1VWnPVHpllSChAp&page=1&doc=7',\n",
       " 'http://apps.webofknowledge.com/full_record.do?product=WOS&search_mode=GeneralSearch&qid=2&SID=E5UV1VWnPVHpllSChAp&page=1&doc=8',\n",
       " 'http://apps.webofknowledge.com/full_record.do?product=WOS&search_mode=GeneralSearch&qid=2&SID=E5UV1VWnPVHpllSChAp&page=1&doc=9',\n",
       " 'http://apps.webofknowledge.com/full_record.do?product=WOS&search_mode=GeneralSearch&qid=2&SID=E5UV1VWnPVHpllSChAp&page=1&doc=10',\n",
       " 'http://apps.webofknowledge.com/full_record.do?product=WOS&search_mode=GeneralSearch&qid=2&SID=E5UV1VWnPVHpllSChAp&page=2&doc=11',\n",
       " 'http://apps.webofknowledge.com/full_record.do?product=WOS&search_mode=GeneralSearch&qid=2&SID=E5UV1VWnPVHpllSChAp&page=2&doc=12',\n",
       " 'http://apps.webofknowledge.com/full_record.do?product=WOS&search_mode=GeneralSearch&qid=2&SID=E5UV1VWnPVHpllSChAp&page=2&doc=13',\n",
       " 'http://apps.webofknowledge.com/full_record.do?product=WOS&search_mode=GeneralSearch&qid=2&SID=E5UV1VWnPVHpllSChAp&page=2&doc=14',\n",
       " 'http://apps.webofknowledge.com/full_record.do?product=WOS&search_mode=GeneralSearch&qid=2&SID=E5UV1VWnPVHpllSChAp&page=2&doc=15',\n",
       " 'http://apps.webofknowledge.com/full_record.do?product=WOS&search_mode=GeneralSearch&qid=2&SID=E5UV1VWnPVHpllSChAp&page=2&doc=16',\n",
       " 'http://apps.webofknowledge.com/full_record.do?product=WOS&search_mode=GeneralSearch&qid=2&SID=E5UV1VWnPVHpllSChAp&page=2&doc=17',\n",
       " 'http://apps.webofknowledge.com/full_record.do?product=WOS&search_mode=GeneralSearch&qid=2&SID=E5UV1VWnPVHpllSChAp&page=2&doc=18',\n",
       " 'http://apps.webofknowledge.com/full_record.do?product=WOS&search_mode=GeneralSearch&qid=2&SID=E5UV1VWnPVHpllSChAp&page=2&doc=19',\n",
       " 'http://apps.webofknowledge.com/full_record.do?product=WOS&search_mode=GeneralSearch&qid=2&SID=E5UV1VWnPVHpllSChAp&page=2&doc=20']"
      ]
     },
     "execution_count": 32,
     "metadata": {},
     "output_type": "execute_result"
    }
   ],
   "source": [
    "Paper_href_list"
   ]
  },
  {
   "cell_type": "code",
   "execution_count": 33,
   "metadata": {},
   "outputs": [
    {
     "data": {
      "text/plain": [
       "20"
      ]
     },
     "execution_count": 33,
     "metadata": {},
     "output_type": "execute_result"
    }
   ],
   "source": [
    "len(Paper_href_list)"
   ]
  },
  {
   "cell_type": "markdown",
   "metadata": {},
   "source": [
    "# collect paper data \n",
    "- 각 논문에 해당하는 정보 수집"
   ]
  },
  {
   "cell_type": "code",
   "execution_count": null,
   "metadata": {},
   "outputs": [
    {
     "name": "stderr",
     "output_type": "stream",
     "text": [
      " 25%|██▌       | 5/20 [00:17<00:52,  3.50s/it]"
     ]
    }
   ],
   "source": [
    "Paper_result_DF = pd.DataFrame(columns=['paper_title', 'publish_data', 'keyword', 'plus_keyword'], index=[])\n",
    "\n",
    "for url in tqdm(Paper_href_list): # tqdm 추가\n",
    "    keyword_list = []\n",
    "    plus_keyword_list = []\n",
    "    \n",
    "    sleep(randint(1,3))\n",
    "    driver.get(url)\n",
    "    keyword_fetch = driver.find_elements_by_css_selector('p:nth-child(2) > a')\n",
    "    plus_keyword_fetch = driver.find_elements_by_css_selector('p:nth-child(3) > a')\n",
    "    \n",
    "    for keyword in keyword_fetch:\n",
    "#         print(keyword.text)\n",
    "        keyword_list.append(keyword.text)\n",
    "        \n",
    "    for plus_keyword in plus_keyword_fetch:\n",
    "#         print(plus_keyword.text)\n",
    "        plus_keyword_list.append(plus_keyword.text)\n",
    "        \n",
    "    paper_title = driver.find_element_by_css_selector('div.title > value').text\n",
    "#     print(paper_title)\n",
    "    publish_data = driver.find_element_by_css_selector('div.block-record-info.block-record-info-source').text\n",
    "#     print(publish_data)\n",
    "    paper_result = {'paper_title' : paper_title, 'publish_data' : publish_data, 'keyword' : keyword_list, 'plus_keyword' : plus_keyword_list}\n",
    "    Paper_result_DF = Paper_result_DF.append(paper_result, ignore_index=True)\n",
    "    \n",
    "print('finished!!!!')\n",
    "# driver.close()"
   ]
  },
  {
   "cell_type": "code",
   "execution_count": null,
   "metadata": {},
   "outputs": [],
   "source": [
    "driver.close() # driver 종료"
   ]
  },
  {
   "cell_type": "code",
   "execution_count": 68,
   "metadata": {},
   "outputs": [
    {
     "data": {
      "text/plain": [
       "(20, 4)"
      ]
     },
     "execution_count": 68,
     "metadata": {},
     "output_type": "execute_result"
    }
   ],
   "source": [
    "Paper_result_DF.shape"
   ]
  },
  {
   "cell_type": "code",
   "execution_count": 69,
   "metadata": {},
   "outputs": [
    {
     "data": {
      "text/html": [
       "<div>\n",
       "<style scoped>\n",
       "    .dataframe tbody tr th:only-of-type {\n",
       "        vertical-align: middle;\n",
       "    }\n",
       "\n",
       "    .dataframe tbody tr th {\n",
       "        vertical-align: top;\n",
       "    }\n",
       "\n",
       "    .dataframe thead th {\n",
       "        text-align: right;\n",
       "    }\n",
       "</style>\n",
       "<table border=\"1\" class=\"dataframe\">\n",
       "  <thead>\n",
       "    <tr style=\"text-align: right;\">\n",
       "      <th></th>\n",
       "      <th>paper_title</th>\n",
       "      <th>publish_data</th>\n",
       "      <th>keyword</th>\n",
       "      <th>plus_keyword</th>\n",
       "    </tr>\n",
       "  </thead>\n",
       "  <tbody>\n",
       "    <tr>\n",
       "      <th>0</th>\n",
       "      <td>Emotional editing constraint conversation cont...</td>\n",
       "      <td>INFORMATION FUSION\\n권: 56 페이지: 70-80\\nDOI: 10....</td>\n",
       "      <td>[, Emotional conversation generation, Affectiv...</td>\n",
       "      <td>[, , ]</td>\n",
       "    </tr>\n",
       "    <tr>\n",
       "      <th>1</th>\n",
       "      <td>Application of deep reinforcement learning to ...</td>\n",
       "      <td>EXPERT SYSTEMS WITH APPLICATIONS\\n권: 141\\n논문 번...</td>\n",
       "      <td>[, Intrusion detection, Data networks, Deep re...</td>\n",
       "      <td>[, INTERNET, SYSTEMS, NETWORK, , ]</td>\n",
       "    </tr>\n",
       "    <tr>\n",
       "      <th>2</th>\n",
       "      <td>Continuous control with Stacked Deep Dynamic R...</td>\n",
       "      <td>EXPERT SYSTEMS WITH APPLICATIONS\\n권: 140\\n논문 번...</td>\n",
       "      <td>[, Reinforcement learning, Policy gradient, De...</td>\n",
       "      <td>[, , ]</td>\n",
       "    </tr>\n",
       "    <tr>\n",
       "      <th>3</th>\n",
       "      <td>Time-driven feature-aware jointly deep reinfor...</td>\n",
       "      <td>EXPERT SYSTEMS WITH APPLICATIONS\\n권: 140\\n논문 번...</td>\n",
       "      <td>[, Algorithmic trading, Deep reinforcement lea...</td>\n",
       "      <td>[, , ]</td>\n",
       "    </tr>\n",
       "    <tr>\n",
       "      <th>4</th>\n",
       "      <td>Effective image super resolution via hierarchi...</td>\n",
       "      <td>NEUROCOMPUTING\\n권: 374 페이지: 109-116\\nDOI: 10.1...</td>\n",
       "      <td>[, Image super-resolution, Edges extraction, D...</td>\n",
       "      <td>[, SUPERRESOLUTION, , ]</td>\n",
       "    </tr>\n",
       "  </tbody>\n",
       "</table>\n",
       "</div>"
      ],
      "text/plain": [
       "                                         paper_title  \\\n",
       "0  Emotional editing constraint conversation cont...   \n",
       "1  Application of deep reinforcement learning to ...   \n",
       "2  Continuous control with Stacked Deep Dynamic R...   \n",
       "3  Time-driven feature-aware jointly deep reinfor...   \n",
       "4  Effective image super resolution via hierarchi...   \n",
       "\n",
       "                                        publish_data  \\\n",
       "0  INFORMATION FUSION\\n권: 56 페이지: 70-80\\nDOI: 10....   \n",
       "1  EXPERT SYSTEMS WITH APPLICATIONS\\n권: 141\\n논문 번...   \n",
       "2  EXPERT SYSTEMS WITH APPLICATIONS\\n권: 140\\n논문 번...   \n",
       "3  EXPERT SYSTEMS WITH APPLICATIONS\\n권: 140\\n논문 번...   \n",
       "4  NEUROCOMPUTING\\n권: 374 페이지: 109-116\\nDOI: 10.1...   \n",
       "\n",
       "                                             keyword  \\\n",
       "0  [, Emotional conversation generation, Affectiv...   \n",
       "1  [, Intrusion detection, Data networks, Deep re...   \n",
       "2  [, Reinforcement learning, Policy gradient, De...   \n",
       "3  [, Algorithmic trading, Deep reinforcement lea...   \n",
       "4  [, Image super-resolution, Edges extraction, D...   \n",
       "\n",
       "                         plus_keyword  \n",
       "0                              [, , ]  \n",
       "1  [, INTERNET, SYSTEMS, NETWORK, , ]  \n",
       "2                              [, , ]  \n",
       "3                              [, , ]  \n",
       "4             [, SUPERRESOLUTION, , ]  "
      ]
     },
     "execution_count": 69,
     "metadata": {},
     "output_type": "execute_result"
    }
   ],
   "source": [
    "Paper_result_DF.head()"
   ]
  },
  {
   "cell_type": "code",
   "execution_count": 29,
   "metadata": {},
   "outputs": [],
   "source": [
    "# Paper_result_DF.to_csv('WOS_example_RL.csv', header=True, encoding='utf-8')"
   ]
  },
  {
   "cell_type": "markdown",
   "metadata": {},
   "source": [
    "------------------------------------------------------------------------------"
   ]
  },
  {
   "cell_type": "markdown",
   "metadata": {},
   "source": [
    "# 실습!\n",
    "- Web of Science 추가 작업 : 저자 이름 수집, 인용 문헌(인용 횟수) 수집\n",
    "- 구글 스칼라(google scholar) 수집 프로그램 작업 (bs version, selenium version)"
   ]
  },
  {
   "cell_type": "code",
   "execution_count": null,
   "metadata": {},
   "outputs": [],
   "source": []
  }
 ],
 "metadata": {
  "kernelspec": {
   "display_name": "Python 3",
   "language": "python",
   "name": "python3"
  },
  "language_info": {
   "codemirror_mode": {
    "name": "ipython",
    "version": 3
   },
   "file_extension": ".py",
   "mimetype": "text/x-python",
   "name": "python",
   "nbconvert_exporter": "python",
   "pygments_lexer": "ipython3",
   "version": "3.6.8"
  }
 },
 "nbformat": 4,
 "nbformat_minor": 2
}
