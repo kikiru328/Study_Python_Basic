{
 "cells": [
  {
   "cell_type": "code",
   "execution_count": 1,
   "metadata": {},
   "outputs": [],
   "source": [
    "import pandas as pd"
   ]
  },
  {
   "cell_type": "code",
   "execution_count": 2,
   "metadata": {},
   "outputs": [
    {
     "data": {
      "text/plain": [
       "'/Users/monica_mac/Documents/DS_school/데이터분석반(재수강)/2주차'"
      ]
     },
     "execution_count": 2,
     "metadata": {},
     "output_type": "execute_result"
    }
   ],
   "source": [
    "/pwd"
   ]
  },
  {
   "cell_type": "markdown",
   "metadata": {},
   "source": [
    "### 1. 데이터 로딩하기"
   ]
  },
  {
   "cell_type": "code",
   "execution_count": 8,
   "metadata": {},
   "outputs": [
    {
     "name": "stdout",
     "output_type": "stream",
     "text": [
      "Index(['Access Code', 'Name', 'Gender', 'Age', 'Height', 'Initial Weight',\n",
      "       'Lowest Weight', 'Target Weight', 'Product Name', 'Status', 'Price',\n",
      "       'Purchased At', 'Payment Type', 'Channel'],\n",
      "      dtype='object')\n"
     ]
    },
    {
     "data": {
      "text/html": [
       "<div>\n",
       "<style scoped>\n",
       "    .dataframe tbody tr th:only-of-type {\n",
       "        vertical-align: middle;\n",
       "    }\n",
       "\n",
       "    .dataframe tbody tr th {\n",
       "        vertical-align: top;\n",
       "    }\n",
       "\n",
       "    .dataframe thead th {\n",
       "        text-align: right;\n",
       "    }\n",
       "</style>\n",
       "<table border=\"1\" class=\"dataframe\">\n",
       "  <thead>\n",
       "    <tr style=\"text-align: right;\">\n",
       "      <th></th>\n",
       "      <th>Access Code</th>\n",
       "      <th>Name</th>\n",
       "      <th>Gender</th>\n",
       "      <th>Age</th>\n",
       "      <th>Height</th>\n",
       "      <th>Initial Weight</th>\n",
       "      <th>Lowest Weight</th>\n",
       "      <th>Target Weight</th>\n",
       "      <th>Product Name</th>\n",
       "      <th>Status</th>\n",
       "      <th>Price</th>\n",
       "      <th>Purchased At</th>\n",
       "      <th>Payment Type</th>\n",
       "      <th>Channel</th>\n",
       "    </tr>\n",
       "  </thead>\n",
       "  <tbody>\n",
       "    <tr>\n",
       "      <td>0</td>\n",
       "      <td>Y9RY2VSI</td>\n",
       "      <td>김승혜</td>\n",
       "      <td>FEMALE</td>\n",
       "      <td>25.0</td>\n",
       "      <td>172.0</td>\n",
       "      <td>66.9</td>\n",
       "      <td>65.8</td>\n",
       "      <td>55.000000</td>\n",
       "      <td>눔 체중감량 프로그램</td>\n",
       "      <td>completed</td>\n",
       "      <td>112500</td>\n",
       "      <td>2017-04-14 19:03:29.976</td>\n",
       "      <td>Recurring</td>\n",
       "      <td>others</td>\n",
       "    </tr>\n",
       "    <tr>\n",
       "      <td>1</td>\n",
       "      <td>3GTN3S3B</td>\n",
       "      <td>허승준</td>\n",
       "      <td>MALE</td>\n",
       "      <td>26.0</td>\n",
       "      <td>176.0</td>\n",
       "      <td>70.0</td>\n",
       "      <td>NaN</td>\n",
       "      <td>65.000000</td>\n",
       "      <td>눔 체중감량 프로그램</td>\n",
       "      <td>completed</td>\n",
       "      <td>44780</td>\n",
       "      <td>2017-05-23 20:53:54.368</td>\n",
       "      <td>Recurring</td>\n",
       "      <td>others</td>\n",
       "    </tr>\n",
       "    <tr>\n",
       "      <td>2</td>\n",
       "      <td>6B0IG276</td>\n",
       "      <td>이지민</td>\n",
       "      <td>FEMALE</td>\n",
       "      <td>23.0</td>\n",
       "      <td>171.0</td>\n",
       "      <td>98.0</td>\n",
       "      <td>NaN</td>\n",
       "      <td>91.140000</td>\n",
       "      <td>눔 체중감량 프로그램 (천원 체험)</td>\n",
       "      <td>completed</td>\n",
       "      <td>132000</td>\n",
       "      <td>2017-08-23 23:39:21.840</td>\n",
       "      <td>Recurring</td>\n",
       "      <td>facebook</td>\n",
       "    </tr>\n",
       "    <tr>\n",
       "      <td>3</td>\n",
       "      <td>EMGRU2MO</td>\n",
       "      <td>장설윤</td>\n",
       "      <td>FEMALE</td>\n",
       "      <td>20.0</td>\n",
       "      <td>160.0</td>\n",
       "      <td>70.7</td>\n",
       "      <td>NaN</td>\n",
       "      <td>53.000000</td>\n",
       "      <td>눔 체중감량 프로그램 (천원 체험)</td>\n",
       "      <td>completed</td>\n",
       "      <td>112500</td>\n",
       "      <td>2017-08-28 20:18:22.824</td>\n",
       "      <td>Recurring</td>\n",
       "      <td>naver</td>\n",
       "    </tr>\n",
       "    <tr>\n",
       "      <td>4</td>\n",
       "      <td>1ELG96TX</td>\n",
       "      <td>서성빈</td>\n",
       "      <td>FEMALE</td>\n",
       "      <td>28.0</td>\n",
       "      <td>165.0</td>\n",
       "      <td>55.5</td>\n",
       "      <td>NaN</td>\n",
       "      <td>51.615002</td>\n",
       "      <td>눔 체중감량 프로그램</td>\n",
       "      <td>completed</td>\n",
       "      <td>44780</td>\n",
       "      <td>2017-05-07 17:50:30.944</td>\n",
       "      <td>Recurring</td>\n",
       "      <td>facebook</td>\n",
       "    </tr>\n",
       "  </tbody>\n",
       "</table>\n",
       "</div>"
      ],
      "text/plain": [
       "  Access Code Name  Gender   Age  Height  Initial Weight  Lowest Weight  \\\n",
       "0    Y9RY2VSI  김승혜  FEMALE  25.0   172.0            66.9           65.8   \n",
       "1    3GTN3S3B  허승준    MALE  26.0   176.0            70.0            NaN   \n",
       "2    6B0IG276  이지민  FEMALE  23.0   171.0            98.0            NaN   \n",
       "3    EMGRU2MO  장설윤  FEMALE  20.0   160.0            70.7            NaN   \n",
       "4    1ELG96TX  서성빈  FEMALE  28.0   165.0            55.5            NaN   \n",
       "\n",
       "   Target Weight         Product Name     Status   Price  \\\n",
       "0      55.000000          눔 체중감량 프로그램  completed  112500   \n",
       "1      65.000000          눔 체중감량 프로그램  completed   44780   \n",
       "2      91.140000  눔 체중감량 프로그램 (천원 체험)  completed  132000   \n",
       "3      53.000000  눔 체중감량 프로그램 (천원 체험)  completed  112500   \n",
       "4      51.615002          눔 체중감량 프로그램  completed   44780   \n",
       "\n",
       "             Purchased At Payment Type   Channel  \n",
       "0 2017-04-14 19:03:29.976    Recurring    others  \n",
       "1 2017-05-23 20:53:54.368    Recurring    others  \n",
       "2 2017-08-23 23:39:21.840    Recurring  facebook  \n",
       "3 2017-08-28 20:18:22.824    Recurring     naver  \n",
       "4 2017-05-07 17:50:30.944    Recurring  facebook  "
      ]
     },
     "execution_count": 8,
     "metadata": {},
     "output_type": "execute_result"
    }
   ],
   "source": [
    "raw_data = pd.read_csv(\"noom_user.csv\",  parse_dates=['Purchased At'])\n",
    "\n",
    "\n",
    "print(raw_data.columns)\n",
    "raw_data.head()"
   ]
  },
  {
   "cell_type": "markdown",
   "metadata": {},
   "source": [
    "### 2. 데이터정리하기"
   ]
  },
  {
   "cell_type": "code",
   "execution_count": 14,
   "metadata": {},
   "outputs": [
    {
     "data": {
      "text/html": [
       "<div>\n",
       "<style scoped>\n",
       "    .dataframe tbody tr th:only-of-type {\n",
       "        vertical-align: middle;\n",
       "    }\n",
       "\n",
       "    .dataframe tbody tr th {\n",
       "        vertical-align: top;\n",
       "    }\n",
       "\n",
       "    .dataframe thead th {\n",
       "        text-align: right;\n",
       "    }\n",
       "</style>\n",
       "<table border=\"1\" class=\"dataframe\">\n",
       "  <thead>\n",
       "    <tr style=\"text-align: right;\">\n",
       "      <th></th>\n",
       "      <th>Name</th>\n",
       "      <th>Gender</th>\n",
       "      <th>Age</th>\n",
       "      <th>Height</th>\n",
       "      <th>Initial Weight</th>\n",
       "      <th>Lowest Weight</th>\n",
       "      <th>Target Weight</th>\n",
       "      <th>Status</th>\n",
       "      <th>Price</th>\n",
       "      <th>Purchased At</th>\n",
       "      <th>Channel</th>\n",
       "    </tr>\n",
       "    <tr>\n",
       "      <th>Access Code</th>\n",
       "      <th></th>\n",
       "      <th></th>\n",
       "      <th></th>\n",
       "      <th></th>\n",
       "      <th></th>\n",
       "      <th></th>\n",
       "      <th></th>\n",
       "      <th></th>\n",
       "      <th></th>\n",
       "      <th></th>\n",
       "      <th></th>\n",
       "    </tr>\n",
       "  </thead>\n",
       "  <tbody>\n",
       "    <tr>\n",
       "      <td>Y9RY2VSI</td>\n",
       "      <td>김승혜</td>\n",
       "      <td>FEMALE</td>\n",
       "      <td>25.0</td>\n",
       "      <td>172.0</td>\n",
       "      <td>66.9</td>\n",
       "      <td>65.8</td>\n",
       "      <td>55.000000</td>\n",
       "      <td>completed</td>\n",
       "      <td>112500</td>\n",
       "      <td>2017-04-14 19:03:29.976</td>\n",
       "      <td>others</td>\n",
       "    </tr>\n",
       "    <tr>\n",
       "      <td>3GTN3S3B</td>\n",
       "      <td>허승준</td>\n",
       "      <td>MALE</td>\n",
       "      <td>26.0</td>\n",
       "      <td>176.0</td>\n",
       "      <td>70.0</td>\n",
       "      <td>NaN</td>\n",
       "      <td>65.000000</td>\n",
       "      <td>completed</td>\n",
       "      <td>44780</td>\n",
       "      <td>2017-05-23 20:53:54.368</td>\n",
       "      <td>others</td>\n",
       "    </tr>\n",
       "    <tr>\n",
       "      <td>6B0IG276</td>\n",
       "      <td>이지민</td>\n",
       "      <td>FEMALE</td>\n",
       "      <td>23.0</td>\n",
       "      <td>171.0</td>\n",
       "      <td>98.0</td>\n",
       "      <td>NaN</td>\n",
       "      <td>91.140000</td>\n",
       "      <td>completed</td>\n",
       "      <td>132000</td>\n",
       "      <td>2017-08-23 23:39:21.840</td>\n",
       "      <td>facebook</td>\n",
       "    </tr>\n",
       "    <tr>\n",
       "      <td>EMGRU2MO</td>\n",
       "      <td>장설윤</td>\n",
       "      <td>FEMALE</td>\n",
       "      <td>20.0</td>\n",
       "      <td>160.0</td>\n",
       "      <td>70.7</td>\n",
       "      <td>NaN</td>\n",
       "      <td>53.000000</td>\n",
       "      <td>completed</td>\n",
       "      <td>112500</td>\n",
       "      <td>2017-08-28 20:18:22.824</td>\n",
       "      <td>naver</td>\n",
       "    </tr>\n",
       "    <tr>\n",
       "      <td>1ELG96TX</td>\n",
       "      <td>서성빈</td>\n",
       "      <td>FEMALE</td>\n",
       "      <td>28.0</td>\n",
       "      <td>165.0</td>\n",
       "      <td>55.5</td>\n",
       "      <td>NaN</td>\n",
       "      <td>51.615002</td>\n",
       "      <td>completed</td>\n",
       "      <td>44780</td>\n",
       "      <td>2017-05-07 17:50:30.944</td>\n",
       "      <td>facebook</td>\n",
       "    </tr>\n",
       "  </tbody>\n",
       "</table>\n",
       "</div>"
      ],
      "text/plain": [
       "            Name  Gender   Age  Height  Initial Weight  Lowest Weight  \\\n",
       "Access Code                                                             \n",
       "Y9RY2VSI     김승혜  FEMALE  25.0   172.0            66.9           65.8   \n",
       "3GTN3S3B     허승준    MALE  26.0   176.0            70.0            NaN   \n",
       "6B0IG276     이지민  FEMALE  23.0   171.0            98.0            NaN   \n",
       "EMGRU2MO     장설윤  FEMALE  20.0   160.0            70.7            NaN   \n",
       "1ELG96TX     서성빈  FEMALE  28.0   165.0            55.5            NaN   \n",
       "\n",
       "             Target Weight     Status   Price            Purchased At  \\\n",
       "Access Code                                                             \n",
       "Y9RY2VSI         55.000000  completed  112500 2017-04-14 19:03:29.976   \n",
       "3GTN3S3B         65.000000  completed   44780 2017-05-23 20:53:54.368   \n",
       "6B0IG276         91.140000  completed  132000 2017-08-23 23:39:21.840   \n",
       "EMGRU2MO         53.000000  completed  112500 2017-08-28 20:18:22.824   \n",
       "1ELG96TX         51.615002  completed   44780 2017-05-07 17:50:30.944   \n",
       "\n",
       "              Channel  \n",
       "Access Code            \n",
       "Y9RY2VSI       others  \n",
       "3GTN3S3B       others  \n",
       "6B0IG276     facebook  \n",
       "EMGRU2MO        naver  \n",
       "1ELG96TX     facebook  "
      ]
     },
     "execution_count": 14,
     "metadata": {},
     "output_type": "execute_result"
    }
   ],
   "source": [
    "columns = ['Access Code', 'Name', 'Gender', 'Age', 'Height', 'Initial Weight',\n",
    "       'Lowest Weight', 'Target Weight', 'Status', 'Price',\n",
    "       'Purchased At', 'Channel']\n",
    "\n",
    "data=raw_data[columns].copy()\n",
    "\n",
    "data = data.set_index('Access Code')\n",
    "\n",
    "data.head()"
   ]
  },
  {
   "cell_type": "code",
   "execution_count": 17,
   "metadata": {},
   "outputs": [
    {
     "data": {
      "text/plain": [
       "array(['FEMALE', 'MALE', nan], dtype=object)"
      ]
     },
     "execution_count": 17,
     "metadata": {},
     "output_type": "execute_result"
    }
   ],
   "source": [
    "raw_data['Gender'].unique()"
   ]
  },
  {
   "cell_type": "code",
   "execution_count": 22,
   "metadata": {},
   "outputs": [
    {
     "data": {
      "text/html": [
       "<div>\n",
       "<style scoped>\n",
       "    .dataframe tbody tr th:only-of-type {\n",
       "        vertical-align: middle;\n",
       "    }\n",
       "\n",
       "    .dataframe tbody tr th {\n",
       "        vertical-align: top;\n",
       "    }\n",
       "\n",
       "    .dataframe thead th {\n",
       "        text-align: right;\n",
       "    }\n",
       "</style>\n",
       "<table border=\"1\" class=\"dataframe\">\n",
       "  <thead>\n",
       "    <tr style=\"text-align: right;\">\n",
       "      <th></th>\n",
       "      <th>Name</th>\n",
       "      <th>Gender</th>\n",
       "      <th>Gender(clean)</th>\n",
       "    </tr>\n",
       "    <tr>\n",
       "      <th>Access Code</th>\n",
       "      <th></th>\n",
       "      <th></th>\n",
       "      <th></th>\n",
       "    </tr>\n",
       "  </thead>\n",
       "  <tbody>\n",
       "    <tr>\n",
       "      <td>Y9RY2VSI</td>\n",
       "      <td>김승혜</td>\n",
       "      <td>FEMALE</td>\n",
       "      <td>female</td>\n",
       "    </tr>\n",
       "    <tr>\n",
       "      <td>3GTN3S3B</td>\n",
       "      <td>허승준</td>\n",
       "      <td>MALE</td>\n",
       "      <td>male</td>\n",
       "    </tr>\n",
       "    <tr>\n",
       "      <td>6B0IG276</td>\n",
       "      <td>이지민</td>\n",
       "      <td>FEMALE</td>\n",
       "      <td>female</td>\n",
       "    </tr>\n",
       "    <tr>\n",
       "      <td>EMGRU2MO</td>\n",
       "      <td>장설윤</td>\n",
       "      <td>FEMALE</td>\n",
       "      <td>female</td>\n",
       "    </tr>\n",
       "    <tr>\n",
       "      <td>1ELG96TX</td>\n",
       "      <td>서성빈</td>\n",
       "      <td>FEMALE</td>\n",
       "      <td>female</td>\n",
       "    </tr>\n",
       "  </tbody>\n",
       "</table>\n",
       "</div>"
      ],
      "text/plain": [
       "            Name  Gender Gender(clean)\n",
       "Access Code                           \n",
       "Y9RY2VSI     김승혜  FEMALE        female\n",
       "3GTN3S3B     허승준    MALE          male\n",
       "6B0IG276     이지민  FEMALE        female\n",
       "EMGRU2MO     장설윤  FEMALE        female\n",
       "1ELG96TX     서성빈  FEMALE        female"
      ]
     },
     "execution_count": 22,
     "metadata": {},
     "output_type": "execute_result"
    }
   ],
   "source": [
    "data['Gender(clean)'] = data[\"Gender\"].replace(\"MALE\", 'male').replace(\"FEMALE\", 'female')\n",
    "\n",
    "data[[\"Name\",'Gender' ,\"Gender(clean)\"]].head()"
   ]
  },
  {
   "cell_type": "markdown",
   "metadata": {},
   "source": [
    "### 3. 키 컬럼 정리"
   ]
  },
  {
   "cell_type": "code",
   "execution_count": 23,
   "metadata": {},
   "outputs": [
    {
     "data": {
      "text/plain": [
       "count    9869.000000\n",
       "mean      163.191495\n",
       "std        10.199053\n",
       "min        -1.000000\n",
       "25%       159.000000\n",
       "50%       163.000000\n",
       "75%       167.000000\n",
       "max       203.200000\n",
       "Name: Height, dtype: float64"
      ]
     },
     "execution_count": 23,
     "metadata": {},
     "output_type": "execute_result"
    }
   ],
   "source": [
    "raw_data[\"Height\"].describe()"
   ]
  },
  {
   "cell_type": "code",
   "execution_count": 24,
   "metadata": {},
   "outputs": [],
   "source": [
    "import numpy as np"
   ]
  },
  {
   "cell_type": "code",
   "execution_count": 29,
   "metadata": {},
   "outputs": [
    {
     "data": {
      "text/html": [
       "<div>\n",
       "<style scoped>\n",
       "    .dataframe tbody tr th:only-of-type {\n",
       "        vertical-align: middle;\n",
       "    }\n",
       "\n",
       "    .dataframe tbody tr th {\n",
       "        vertical-align: top;\n",
       "    }\n",
       "\n",
       "    .dataframe thead th {\n",
       "        text-align: right;\n",
       "    }\n",
       "</style>\n",
       "<table border=\"1\" class=\"dataframe\">\n",
       "  <thead>\n",
       "    <tr style=\"text-align: right;\">\n",
       "      <th></th>\n",
       "      <th>Name</th>\n",
       "      <th>Height</th>\n",
       "      <th>Height(clean)</th>\n",
       "    </tr>\n",
       "    <tr>\n",
       "      <th>Access Code</th>\n",
       "      <th></th>\n",
       "      <th></th>\n",
       "      <th></th>\n",
       "    </tr>\n",
       "  </thead>\n",
       "  <tbody>\n",
       "    <tr>\n",
       "      <td>O4OWMJG7</td>\n",
       "      <td>오세윤</td>\n",
       "      <td>-1.0</td>\n",
       "      <td>NaN</td>\n",
       "    </tr>\n",
       "    <tr>\n",
       "      <td>H6EV5AXL</td>\n",
       "      <td>박슬지</td>\n",
       "      <td>-1.0</td>\n",
       "      <td>NaN</td>\n",
       "    </tr>\n",
       "    <tr>\n",
       "      <td>O1IAZS7A</td>\n",
       "      <td>고솔윤</td>\n",
       "      <td>-1.0</td>\n",
       "      <td>NaN</td>\n",
       "    </tr>\n",
       "    <tr>\n",
       "      <td>5NEQOWHW</td>\n",
       "      <td>손초영</td>\n",
       "      <td>-1.0</td>\n",
       "      <td>NaN</td>\n",
       "    </tr>\n",
       "    <tr>\n",
       "      <td>OFAXUNXD</td>\n",
       "      <td>백채우</td>\n",
       "      <td>-1.0</td>\n",
       "      <td>NaN</td>\n",
       "    </tr>\n",
       "  </tbody>\n",
       "</table>\n",
       "</div>"
      ],
      "text/plain": [
       "            Name  Height  Height(clean)\n",
       "Access Code                            \n",
       "O4OWMJG7     오세윤    -1.0            NaN\n",
       "H6EV5AXL     박슬지    -1.0            NaN\n",
       "O1IAZS7A     고솔윤    -1.0            NaN\n",
       "5NEQOWHW     손초영    -1.0            NaN\n",
       "OFAXUNXD     백채우    -1.0            NaN"
      ]
     },
     "execution_count": 29,
     "metadata": {},
     "output_type": "execute_result"
    }
   ],
   "source": [
    "data[\"Height(clean)\"] = data[\"Height\"]\n",
    "\n",
    "data.loc[data['Height'] < 0 , \"Height(clean)\"] = np.nan\n",
    "\n",
    "data.loc[data[\"Height\"]< 0 , ['Name', \"Height\", 'Height(clean)']].head()"
   ]
  },
  {
   "cell_type": "code",
   "execution_count": 30,
   "metadata": {},
   "outputs": [
    {
     "data": {
      "text/plain": [
       "count    9848.000000\n",
       "mean      163.541619\n",
       "std         6.828374\n",
       "min       106.000000\n",
       "25%       159.000000\n",
       "50%       163.000000\n",
       "75%       167.000000\n",
       "max       203.200000\n",
       "Name: Height(clean), dtype: float64"
      ]
     },
     "execution_count": 30,
     "metadata": {},
     "output_type": "execute_result"
    }
   ],
   "source": [
    "data[\"Height(clean)\"].describe()"
   ]
  },
  {
   "cell_type": "code",
   "execution_count": 31,
   "metadata": {},
   "outputs": [
    {
     "data": {
      "text/html": [
       "<div>\n",
       "<style scoped>\n",
       "    .dataframe tbody tr th:only-of-type {\n",
       "        vertical-align: middle;\n",
       "    }\n",
       "\n",
       "    .dataframe tbody tr th {\n",
       "        vertical-align: top;\n",
       "    }\n",
       "\n",
       "    .dataframe thead th {\n",
       "        text-align: right;\n",
       "    }\n",
       "</style>\n",
       "<table border=\"1\" class=\"dataframe\">\n",
       "  <thead>\n",
       "    <tr style=\"text-align: right;\">\n",
       "      <th></th>\n",
       "      <th>Height(clean)</th>\n",
       "    </tr>\n",
       "    <tr>\n",
       "      <th>Gender(clean)</th>\n",
       "      <th></th>\n",
       "    </tr>\n",
       "  </thead>\n",
       "  <tbody>\n",
       "    <tr>\n",
       "      <td>female</td>\n",
       "      <td>162.116913</td>\n",
       "    </tr>\n",
       "    <tr>\n",
       "      <td>male</td>\n",
       "      <td>175.831965</td>\n",
       "    </tr>\n",
       "  </tbody>\n",
       "</table>\n",
       "</div>"
      ],
      "text/plain": [
       "               Height(clean)\n",
       "Gender(clean)               \n",
       "female            162.116913\n",
       "male              175.831965"
      ]
     },
     "execution_count": 31,
     "metadata": {},
     "output_type": "execute_result"
    }
   ],
   "source": [
    "pd.pivot_table(data, index=\"Gender(clean)\", values=\"Height(clean)\")"
   ]
  },
  {
   "cell_type": "markdown",
   "metadata": {},
   "source": [
    "### 4. 나이 컬럼을 정리해주세요"
   ]
  },
  {
   "cell_type": "code",
   "execution_count": 32,
   "metadata": {},
   "outputs": [
    {
     "data": {
      "text/plain": [
       "0    25.0\n",
       "1    26.0\n",
       "2    23.0\n",
       "3    20.0\n",
       "4    28.0\n",
       "Name: Age, dtype: float64"
      ]
     },
     "execution_count": 32,
     "metadata": {},
     "output_type": "execute_result"
    }
   ],
   "source": [
    "raw_data[\"Age\"].head()"
   ]
  },
  {
   "cell_type": "code",
   "execution_count": 35,
   "metadata": {},
   "outputs": [
    {
     "data": {
      "text/plain": [
       "count    9869.000000\n",
       "mean       27.463573\n",
       "std         7.376082\n",
       "min         0.000000\n",
       "25%        23.000000\n",
       "50%        26.000000\n",
       "75%        31.000000\n",
       "max       173.000000\n",
       "Name: Age, dtype: float64"
      ]
     },
     "execution_count": 35,
     "metadata": {},
     "output_type": "execute_result"
    }
   ],
   "source": [
    "data[\"Age\"].describe()"
   ]
  },
  {
   "cell_type": "code",
   "execution_count": 40,
   "metadata": {},
   "outputs": [
    {
     "data": {
      "text/html": [
       "<div>\n",
       "<style scoped>\n",
       "    .dataframe tbody tr th:only-of-type {\n",
       "        vertical-align: middle;\n",
       "    }\n",
       "\n",
       "    .dataframe tbody tr th {\n",
       "        vertical-align: top;\n",
       "    }\n",
       "\n",
       "    .dataframe thead th {\n",
       "        text-align: right;\n",
       "    }\n",
       "</style>\n",
       "<table border=\"1\" class=\"dataframe\">\n",
       "  <thead>\n",
       "    <tr style=\"text-align: right;\">\n",
       "      <th></th>\n",
       "      <th>Name</th>\n",
       "      <th>Age</th>\n",
       "      <th>Age(clean)</th>\n",
       "    </tr>\n",
       "    <tr>\n",
       "      <th>Access Code</th>\n",
       "      <th></th>\n",
       "      <th></th>\n",
       "      <th></th>\n",
       "    </tr>\n",
       "  </thead>\n",
       "  <tbody>\n",
       "    <tr>\n",
       "      <td>9PTGVW4B</td>\n",
       "      <td>강서연</td>\n",
       "      <td>0.0</td>\n",
       "      <td>NaN</td>\n",
       "    </tr>\n",
       "    <tr>\n",
       "      <td>ACV6D35S</td>\n",
       "      <td>윤우성</td>\n",
       "      <td>0.0</td>\n",
       "      <td>NaN</td>\n",
       "    </tr>\n",
       "    <tr>\n",
       "      <td>Y0OK1FWA</td>\n",
       "      <td>김서영</td>\n",
       "      <td>85.0</td>\n",
       "      <td>NaN</td>\n",
       "    </tr>\n",
       "    <tr>\n",
       "      <td>WX34HGBL</td>\n",
       "      <td>강채민</td>\n",
       "      <td>0.0</td>\n",
       "      <td>NaN</td>\n",
       "    </tr>\n",
       "    <tr>\n",
       "      <td>R9XCS81F</td>\n",
       "      <td>최유신</td>\n",
       "      <td>0.0</td>\n",
       "      <td>NaN</td>\n",
       "    </tr>\n",
       "  </tbody>\n",
       "</table>\n",
       "</div>"
      ],
      "text/plain": [
       "            Name   Age  Age(clean)\n",
       "Access Code                       \n",
       "9PTGVW4B     강서연   0.0         NaN\n",
       "ACV6D35S     윤우성   0.0         NaN\n",
       "Y0OK1FWA     김서영  85.0         NaN\n",
       "WX34HGBL     강채민   0.0         NaN\n",
       "R9XCS81F     최유신   0.0         NaN"
      ]
     },
     "execution_count": 40,
     "metadata": {},
     "output_type": "execute_result"
    }
   ],
   "source": [
    "data[\"Age(clean)\"] = data[\"Age\"]\n",
    "\n",
    "data.loc[data['Age']==0, 'Age(clean)'] = np.nan\n",
    "\n",
    "data.loc[data['Age'] >= 60, \"Age(clean)\"] = np.nan\n",
    "\n",
    "data.loc[(data['Age'] == 0) | (data['Age'] >= 60), [\"Name\", \"Age\", \"Age(clean)\"]].head()"
   ]
  },
  {
   "cell_type": "markdown",
   "metadata": {},
   "source": [
    "### VIP 구하기"
   ]
  },
  {
   "cell_type": "markdown",
   "metadata": {},
   "source": [
    "### 5. 전체컬럼에서 필요한 컬럼만 가져오기"
   ]
  },
  {
   "cell_type": "code",
   "execution_count": 44,
   "metadata": {},
   "outputs": [
    {
     "name": "stdout",
     "output_type": "stream",
     "text": [
      "Index(['Name', 'Gender', 'Age', 'Height', 'Initial Weight', 'Lowest Weight',\n",
      "       'Target Weight', 'Status', 'Price', 'Purchased At', 'Channel',\n",
      "       'Gender(clean)', 'Height(clean)', 'Age(clean)'],\n",
      "      dtype='object')\n"
     ]
    }
   ],
   "source": [
    "print(data.columns)"
   ]
  },
  {
   "cell_type": "code",
   "execution_count": 49,
   "metadata": {},
   "outputs": [],
   "source": [
    "col2 = ['Name', 'Age(clean)','Height(clean)', 'Initial Weight', 'Lowest Weight',\n",
    "       'Target Weight', 'Status']\n",
    "\n",
    "weight_history=data[col2].copy()"
   ]
  },
  {
   "cell_type": "code",
   "execution_count": 51,
   "metadata": {},
   "outputs": [
    {
     "name": "stdout",
     "output_type": "stream",
     "text": [
      "(10000, 7)\n"
     ]
    },
    {
     "data": {
      "text/html": [
       "<div>\n",
       "<style scoped>\n",
       "    .dataframe tbody tr th:only-of-type {\n",
       "        vertical-align: middle;\n",
       "    }\n",
       "\n",
       "    .dataframe tbody tr th {\n",
       "        vertical-align: top;\n",
       "    }\n",
       "\n",
       "    .dataframe thead th {\n",
       "        text-align: right;\n",
       "    }\n",
       "</style>\n",
       "<table border=\"1\" class=\"dataframe\">\n",
       "  <thead>\n",
       "    <tr style=\"text-align: right;\">\n",
       "      <th></th>\n",
       "      <th>Name</th>\n",
       "      <th>Age(clean)</th>\n",
       "      <th>Height(clean)</th>\n",
       "      <th>Initial Weight</th>\n",
       "      <th>Lowest Weight</th>\n",
       "      <th>Target Weight</th>\n",
       "      <th>Status</th>\n",
       "    </tr>\n",
       "    <tr>\n",
       "      <th>Access Code</th>\n",
       "      <th></th>\n",
       "      <th></th>\n",
       "      <th></th>\n",
       "      <th></th>\n",
       "      <th></th>\n",
       "      <th></th>\n",
       "      <th></th>\n",
       "    </tr>\n",
       "  </thead>\n",
       "  <tbody>\n",
       "    <tr>\n",
       "      <td>Y9RY2VSI</td>\n",
       "      <td>김승혜</td>\n",
       "      <td>25.0</td>\n",
       "      <td>172.0</td>\n",
       "      <td>66.9</td>\n",
       "      <td>65.8</td>\n",
       "      <td>55.000000</td>\n",
       "      <td>completed</td>\n",
       "    </tr>\n",
       "    <tr>\n",
       "      <td>3GTN3S3B</td>\n",
       "      <td>허승준</td>\n",
       "      <td>26.0</td>\n",
       "      <td>176.0</td>\n",
       "      <td>70.0</td>\n",
       "      <td>NaN</td>\n",
       "      <td>65.000000</td>\n",
       "      <td>completed</td>\n",
       "    </tr>\n",
       "    <tr>\n",
       "      <td>6B0IG276</td>\n",
       "      <td>이지민</td>\n",
       "      <td>23.0</td>\n",
       "      <td>171.0</td>\n",
       "      <td>98.0</td>\n",
       "      <td>NaN</td>\n",
       "      <td>91.140000</td>\n",
       "      <td>completed</td>\n",
       "    </tr>\n",
       "    <tr>\n",
       "      <td>EMGRU2MO</td>\n",
       "      <td>장설윤</td>\n",
       "      <td>20.0</td>\n",
       "      <td>160.0</td>\n",
       "      <td>70.7</td>\n",
       "      <td>NaN</td>\n",
       "      <td>53.000000</td>\n",
       "      <td>completed</td>\n",
       "    </tr>\n",
       "    <tr>\n",
       "      <td>1ELG96TX</td>\n",
       "      <td>서성빈</td>\n",
       "      <td>28.0</td>\n",
       "      <td>165.0</td>\n",
       "      <td>55.5</td>\n",
       "      <td>NaN</td>\n",
       "      <td>51.615002</td>\n",
       "      <td>completed</td>\n",
       "    </tr>\n",
       "  </tbody>\n",
       "</table>\n",
       "</div>"
      ],
      "text/plain": [
       "            Name  Age(clean)  Height(clean)  Initial Weight  Lowest Weight  \\\n",
       "Access Code                                                                  \n",
       "Y9RY2VSI     김승혜        25.0          172.0            66.9           65.8   \n",
       "3GTN3S3B     허승준        26.0          176.0            70.0            NaN   \n",
       "6B0IG276     이지민        23.0          171.0            98.0            NaN   \n",
       "EMGRU2MO     장설윤        20.0          160.0            70.7            NaN   \n",
       "1ELG96TX     서성빈        28.0          165.0            55.5            NaN   \n",
       "\n",
       "             Target Weight     Status  \n",
       "Access Code                            \n",
       "Y9RY2VSI         55.000000  completed  \n",
       "3GTN3S3B         65.000000  completed  \n",
       "6B0IG276         91.140000  completed  \n",
       "EMGRU2MO         53.000000  completed  \n",
       "1ELG96TX         51.615002  completed  "
      ]
     },
     "execution_count": 51,
     "metadata": {},
     "output_type": "execute_result"
    }
   ],
   "source": [
    "print(weight_history.shape)\n",
    "weight_history.head()"
   ]
  },
  {
   "cell_type": "markdown",
   "metadata": {},
   "source": [
    "### 6. 주어진 컬럼으로 다음의 추가정보를 계산해주세요"
   ]
  },
  {
   "cell_type": "code",
   "execution_count": 55,
   "metadata": {},
   "outputs": [
    {
     "data": {
      "text/html": [
       "<div>\n",
       "<style scoped>\n",
       "    .dataframe tbody tr th:only-of-type {\n",
       "        vertical-align: middle;\n",
       "    }\n",
       "\n",
       "    .dataframe tbody tr th {\n",
       "        vertical-align: top;\n",
       "    }\n",
       "\n",
       "    .dataframe thead th {\n",
       "        text-align: right;\n",
       "    }\n",
       "</style>\n",
       "<table border=\"1\" class=\"dataframe\">\n",
       "  <thead>\n",
       "    <tr style=\"text-align: right;\">\n",
       "      <th></th>\n",
       "      <th>Name</th>\n",
       "      <th>Age(clean)</th>\n",
       "      <th>Height(clean)</th>\n",
       "      <th>Initial Weight</th>\n",
       "      <th>Lowest Weight</th>\n",
       "      <th>Target Weight</th>\n",
       "      <th>Status</th>\n",
       "      <th>Weight Loss(goal)</th>\n",
       "      <th>Weight Loss(current)</th>\n",
       "    </tr>\n",
       "    <tr>\n",
       "      <th>Access Code</th>\n",
       "      <th></th>\n",
       "      <th></th>\n",
       "      <th></th>\n",
       "      <th></th>\n",
       "      <th></th>\n",
       "      <th></th>\n",
       "      <th></th>\n",
       "      <th></th>\n",
       "      <th></th>\n",
       "    </tr>\n",
       "  </thead>\n",
       "  <tbody>\n",
       "    <tr>\n",
       "      <td>Y9RY2VSI</td>\n",
       "      <td>김승혜</td>\n",
       "      <td>25.0</td>\n",
       "      <td>172.0</td>\n",
       "      <td>66.9</td>\n",
       "      <td>65.8</td>\n",
       "      <td>55.000000</td>\n",
       "      <td>completed</td>\n",
       "      <td>11.900000</td>\n",
       "      <td>1.1</td>\n",
       "    </tr>\n",
       "    <tr>\n",
       "      <td>3GTN3S3B</td>\n",
       "      <td>허승준</td>\n",
       "      <td>26.0</td>\n",
       "      <td>176.0</td>\n",
       "      <td>70.0</td>\n",
       "      <td>NaN</td>\n",
       "      <td>65.000000</td>\n",
       "      <td>completed</td>\n",
       "      <td>5.000000</td>\n",
       "      <td>NaN</td>\n",
       "    </tr>\n",
       "    <tr>\n",
       "      <td>6B0IG276</td>\n",
       "      <td>이지민</td>\n",
       "      <td>23.0</td>\n",
       "      <td>171.0</td>\n",
       "      <td>98.0</td>\n",
       "      <td>NaN</td>\n",
       "      <td>91.140000</td>\n",
       "      <td>completed</td>\n",
       "      <td>6.860000</td>\n",
       "      <td>NaN</td>\n",
       "    </tr>\n",
       "    <tr>\n",
       "      <td>EMGRU2MO</td>\n",
       "      <td>장설윤</td>\n",
       "      <td>20.0</td>\n",
       "      <td>160.0</td>\n",
       "      <td>70.7</td>\n",
       "      <td>NaN</td>\n",
       "      <td>53.000000</td>\n",
       "      <td>completed</td>\n",
       "      <td>17.700000</td>\n",
       "      <td>NaN</td>\n",
       "    </tr>\n",
       "    <tr>\n",
       "      <td>1ELG96TX</td>\n",
       "      <td>서성빈</td>\n",
       "      <td>28.0</td>\n",
       "      <td>165.0</td>\n",
       "      <td>55.5</td>\n",
       "      <td>NaN</td>\n",
       "      <td>51.615002</td>\n",
       "      <td>completed</td>\n",
       "      <td>3.884998</td>\n",
       "      <td>NaN</td>\n",
       "    </tr>\n",
       "  </tbody>\n",
       "</table>\n",
       "</div>"
      ],
      "text/plain": [
       "            Name  Age(clean)  Height(clean)  Initial Weight  Lowest Weight  \\\n",
       "Access Code                                                                  \n",
       "Y9RY2VSI     김승혜        25.0          172.0            66.9           65.8   \n",
       "3GTN3S3B     허승준        26.0          176.0            70.0            NaN   \n",
       "6B0IG276     이지민        23.0          171.0            98.0            NaN   \n",
       "EMGRU2MO     장설윤        20.0          160.0            70.7            NaN   \n",
       "1ELG96TX     서성빈        28.0          165.0            55.5            NaN   \n",
       "\n",
       "             Target Weight     Status  Weight Loss(goal)  Weight Loss(current)  \n",
       "Access Code                                                                     \n",
       "Y9RY2VSI         55.000000  completed          11.900000                   1.1  \n",
       "3GTN3S3B         65.000000  completed           5.000000                   NaN  \n",
       "6B0IG276         91.140000  completed           6.860000                   NaN  \n",
       "EMGRU2MO         53.000000  completed          17.700000                   NaN  \n",
       "1ELG96TX         51.615002  completed           3.884998                   NaN  "
      ]
     },
     "execution_count": 55,
     "metadata": {},
     "output_type": "execute_result"
    }
   ],
   "source": [
    "weight_history['Weight Loss(goal)'] = weight_history['Initial Weight'] - weight_history['Target Weight']\n",
    "weight_history['Weight Loss(current)'] = weight_history['Initial Weight'] - weight_history['Lowest Weight']\n",
    "\n",
    "weight_history.head()"
   ]
  },
  {
   "cell_type": "code",
   "execution_count": 62,
   "metadata": {},
   "outputs": [
    {
     "data": {
      "text/html": [
       "<div>\n",
       "<style scoped>\n",
       "    .dataframe tbody tr th:only-of-type {\n",
       "        vertical-align: middle;\n",
       "    }\n",
       "\n",
       "    .dataframe tbody tr th {\n",
       "        vertical-align: top;\n",
       "    }\n",
       "\n",
       "    .dataframe thead th {\n",
       "        text-align: right;\n",
       "    }\n",
       "</style>\n",
       "<table border=\"1\" class=\"dataframe\">\n",
       "  <thead>\n",
       "    <tr style=\"text-align: right;\">\n",
       "      <th></th>\n",
       "      <th>Name</th>\n",
       "      <th>Weight Loss(goal)</th>\n",
       "      <th>Weight Loss(current)</th>\n",
       "      <th>BMI</th>\n",
       "    </tr>\n",
       "    <tr>\n",
       "      <th>Access Code</th>\n",
       "      <th></th>\n",
       "      <th></th>\n",
       "      <th></th>\n",
       "      <th></th>\n",
       "    </tr>\n",
       "  </thead>\n",
       "  <tbody>\n",
       "    <tr>\n",
       "      <td>Y9RY2VSI</td>\n",
       "      <td>김승혜</td>\n",
       "      <td>11.900000</td>\n",
       "      <td>1.1</td>\n",
       "      <td>22.613575</td>\n",
       "    </tr>\n",
       "    <tr>\n",
       "      <td>3GTN3S3B</td>\n",
       "      <td>허승준</td>\n",
       "      <td>5.000000</td>\n",
       "      <td>NaN</td>\n",
       "      <td>22.598140</td>\n",
       "    </tr>\n",
       "    <tr>\n",
       "      <td>6B0IG276</td>\n",
       "      <td>이지민</td>\n",
       "      <td>6.860000</td>\n",
       "      <td>NaN</td>\n",
       "      <td>33.514586</td>\n",
       "    </tr>\n",
       "    <tr>\n",
       "      <td>EMGRU2MO</td>\n",
       "      <td>장설윤</td>\n",
       "      <td>17.700000</td>\n",
       "      <td>NaN</td>\n",
       "      <td>27.617187</td>\n",
       "    </tr>\n",
       "    <tr>\n",
       "      <td>1ELG96TX</td>\n",
       "      <td>서성빈</td>\n",
       "      <td>3.884998</td>\n",
       "      <td>NaN</td>\n",
       "      <td>20.385675</td>\n",
       "    </tr>\n",
       "  </tbody>\n",
       "</table>\n",
       "</div>"
      ],
      "text/plain": [
       "            Name  Weight Loss(goal)  Weight Loss(current)        BMI\n",
       "Access Code                                                         \n",
       "Y9RY2VSI     김승혜          11.900000                   1.1  22.613575\n",
       "3GTN3S3B     허승준           5.000000                   NaN  22.598140\n",
       "6B0IG276     이지민           6.860000                   NaN  33.514586\n",
       "EMGRU2MO     장설윤          17.700000                   NaN  27.617187\n",
       "1ELG96TX     서성빈           3.884998                   NaN  20.385675"
      ]
     },
     "execution_count": 62,
     "metadata": {},
     "output_type": "execute_result"
    }
   ],
   "source": [
    "# BMI 키 필요\n",
    "weight_history['Height(m)(clean)'] = weight_history['Height(clean)']/100\n",
    "\n",
    "weight_history[\"BMI\"] = weight_history['Initial Weight'] / weight_history['Height(m)(clean)'] ** 2\n",
    "\n",
    "weight_history[[\"Name\", \"Weight Loss(goal)\", \"Weight Loss(current)\", \"BMI\"]].head()"
   ]
  },
  {
   "cell_type": "markdown",
   "metadata": {},
   "source": [
    "### 7. 잘못된 정보를 기입한 사용자(invalid user) 찾기"
   ]
  },
  {
   "cell_type": "code",
   "execution_count": 85,
   "metadata": {},
   "outputs": [],
   "source": [
    "def find_invalid_user(row):\n",
    "    if row[\"Status\"] != 'completed' :\n",
    "        return False\n",
    "    if pd.isnull(row [\"Age(clean)\"]) or pd.isnull(row[\"Height(clean)\"]) :\n",
    "        return False\n",
    "    if pd.isnull(row [\"Initial Weight\"]) or pd.isnull(row[\"Lowest Weight\"]) or pd.isnull(row['Target Weight']):\n",
    "        return False\n",
    "    if row[\"Height(clean)\"] < 140 or row[\"Height(clean)\"] >200 :\n",
    "        return False\n",
    "    if row['BMI'] < 18.5 or row['BMI'] > 30:\n",
    "        return True\n",
    "    if row['Weight Loss(goal)'] < 0:\n",
    "        return True\n",
    "    \n",
    "    return False"
   ]
  },
  {
   "cell_type": "code",
   "execution_count": 86,
   "metadata": {},
   "outputs": [],
   "source": [
    "# 눔의 프로그램을 결제한 구매자. (Status == \"completed\")\n",
    "# 나이(Age(clean)), 키(Height(clean))와 \n",
    "# 몸무게(Initial Weight, Lowest Weight, Target Weight) 중 어느 하나라도 NaN이 들어가 있는 경우.\n",
    "# 키를 너무 작게 기입했거나(140cm 미만)나, 정 반대로 너무 크게(200cm 초과) 기입한 사용자.\n",
    "# BMI수치가 너무 낮거나(18.5 미만) 너무 높은 사용자. (30.0 초과)\n",
    "# 목표 감량치(Weight Loss(goal))가 마이너스인 경우. (보통 현재 체중보다 목표 체중을 낮게 설정합니다)\n",
    "\n"
   ]
  },
  {
   "cell_type": "code",
   "execution_count": 106,
   "metadata": {},
   "outputs": [
    {
     "data": {
      "text/plain": [
       "False"
      ]
     },
     "execution_count": 106,
     "metadata": {},
     "output_type": "execute_result"
    }
   ],
   "source": [
    "dummy = {\n",
    "    \"Status\": \"completed\",\n",
    "    \"Age(clean)\": 27,\n",
    "    \"Height(clean)\": 183,\n",
    "    \"Initial Weight\" : 70,\n",
    "    \"Lowest Weight\" : 50,\n",
    "    \"Target Weight\" : 7,\n",
    "    \"BMI\" : 25,\n",
    "    \"Weight Loss(goal)\" : 3\n",
    "}\n",
    "\n",
    "find_invalid_user(dummy)"
   ]
  },
  {
   "cell_type": "code",
   "execution_count": 103,
   "metadata": {},
   "outputs": [],
   "source": [
    "def find_invalid_user_pr(row) :\n",
    "    if row[\"Height(clean)\"] <= 140:\n",
    "        return True\n",
    "    elif row[\"Height(clean)\"] >= 200:\n",
    "        return True\n",
    "    \n",
    "    else :\n",
    "        return False"
   ]
  },
  {
   "cell_type": "code",
   "execution_count": 105,
   "metadata": {},
   "outputs": [
    {
     "data": {
      "text/plain": [
       "False"
      ]
     },
     "execution_count": 105,
     "metadata": {},
     "output_type": "execute_result"
    }
   ],
   "source": [
    "dummy2 = {\n",
    "    \"Height(clean)\" : 189\n",
    "}\n",
    "\n",
    "find_invalid_user_pr(dummy2)"
   ]
  },
  {
   "cell_type": "code",
   "execution_count": 109,
   "metadata": {},
   "outputs": [
    {
     "data": {
      "text/html": [
       "<div>\n",
       "<style scoped>\n",
       "    .dataframe tbody tr th:only-of-type {\n",
       "        vertical-align: middle;\n",
       "    }\n",
       "\n",
       "    .dataframe tbody tr th {\n",
       "        vertical-align: top;\n",
       "    }\n",
       "\n",
       "    .dataframe thead th {\n",
       "        text-align: right;\n",
       "    }\n",
       "</style>\n",
       "<table border=\"1\" class=\"dataframe\">\n",
       "  <thead>\n",
       "    <tr style=\"text-align: right;\">\n",
       "      <th></th>\n",
       "      <th>Name</th>\n",
       "      <th>Age(clean)</th>\n",
       "      <th>Height(clean)</th>\n",
       "      <th>Initial Weight</th>\n",
       "      <th>Lowest Weight</th>\n",
       "      <th>Target Weight</th>\n",
       "      <th>Status</th>\n",
       "      <th>Weight Loss(goal)</th>\n",
       "      <th>Weight Loss(current)</th>\n",
       "      <th>Heigh(m)(clean)</th>\n",
       "      <th>Height(m)(clean)</th>\n",
       "      <th>BMI</th>\n",
       "      <th>Invalid</th>\n",
       "    </tr>\n",
       "    <tr>\n",
       "      <th>Access Code</th>\n",
       "      <th></th>\n",
       "      <th></th>\n",
       "      <th></th>\n",
       "      <th></th>\n",
       "      <th></th>\n",
       "      <th></th>\n",
       "      <th></th>\n",
       "      <th></th>\n",
       "      <th></th>\n",
       "      <th></th>\n",
       "      <th></th>\n",
       "      <th></th>\n",
       "      <th></th>\n",
       "    </tr>\n",
       "  </thead>\n",
       "  <tbody>\n",
       "    <tr>\n",
       "      <td>Y9RY2VSI</td>\n",
       "      <td>김승혜</td>\n",
       "      <td>25.0</td>\n",
       "      <td>172.0</td>\n",
       "      <td>66.9</td>\n",
       "      <td>65.8</td>\n",
       "      <td>55.000000</td>\n",
       "      <td>completed</td>\n",
       "      <td>11.900000</td>\n",
       "      <td>1.1</td>\n",
       "      <td>1.72</td>\n",
       "      <td>1.72</td>\n",
       "      <td>22.613575</td>\n",
       "      <td>False</td>\n",
       "    </tr>\n",
       "    <tr>\n",
       "      <td>3GTN3S3B</td>\n",
       "      <td>허승준</td>\n",
       "      <td>26.0</td>\n",
       "      <td>176.0</td>\n",
       "      <td>70.0</td>\n",
       "      <td>NaN</td>\n",
       "      <td>65.000000</td>\n",
       "      <td>completed</td>\n",
       "      <td>5.000000</td>\n",
       "      <td>NaN</td>\n",
       "      <td>1.76</td>\n",
       "      <td>1.76</td>\n",
       "      <td>22.598140</td>\n",
       "      <td>False</td>\n",
       "    </tr>\n",
       "    <tr>\n",
       "      <td>6B0IG276</td>\n",
       "      <td>이지민</td>\n",
       "      <td>23.0</td>\n",
       "      <td>171.0</td>\n",
       "      <td>98.0</td>\n",
       "      <td>NaN</td>\n",
       "      <td>91.140000</td>\n",
       "      <td>completed</td>\n",
       "      <td>6.860000</td>\n",
       "      <td>NaN</td>\n",
       "      <td>1.71</td>\n",
       "      <td>1.71</td>\n",
       "      <td>33.514586</td>\n",
       "      <td>False</td>\n",
       "    </tr>\n",
       "    <tr>\n",
       "      <td>EMGRU2MO</td>\n",
       "      <td>장설윤</td>\n",
       "      <td>20.0</td>\n",
       "      <td>160.0</td>\n",
       "      <td>70.7</td>\n",
       "      <td>NaN</td>\n",
       "      <td>53.000000</td>\n",
       "      <td>completed</td>\n",
       "      <td>17.700000</td>\n",
       "      <td>NaN</td>\n",
       "      <td>1.60</td>\n",
       "      <td>1.60</td>\n",
       "      <td>27.617187</td>\n",
       "      <td>False</td>\n",
       "    </tr>\n",
       "    <tr>\n",
       "      <td>1ELG96TX</td>\n",
       "      <td>서성빈</td>\n",
       "      <td>28.0</td>\n",
       "      <td>165.0</td>\n",
       "      <td>55.5</td>\n",
       "      <td>NaN</td>\n",
       "      <td>51.615002</td>\n",
       "      <td>completed</td>\n",
       "      <td>3.884998</td>\n",
       "      <td>NaN</td>\n",
       "      <td>1.65</td>\n",
       "      <td>1.65</td>\n",
       "      <td>20.385675</td>\n",
       "      <td>False</td>\n",
       "    </tr>\n",
       "  </tbody>\n",
       "</table>\n",
       "</div>"
      ],
      "text/plain": [
       "            Name  Age(clean)  Height(clean)  Initial Weight  Lowest Weight  \\\n",
       "Access Code                                                                  \n",
       "Y9RY2VSI     김승혜        25.0          172.0            66.9           65.8   \n",
       "3GTN3S3B     허승준        26.0          176.0            70.0            NaN   \n",
       "6B0IG276     이지민        23.0          171.0            98.0            NaN   \n",
       "EMGRU2MO     장설윤        20.0          160.0            70.7            NaN   \n",
       "1ELG96TX     서성빈        28.0          165.0            55.5            NaN   \n",
       "\n",
       "             Target Weight     Status  Weight Loss(goal)  \\\n",
       "Access Code                                                \n",
       "Y9RY2VSI         55.000000  completed          11.900000   \n",
       "3GTN3S3B         65.000000  completed           5.000000   \n",
       "6B0IG276         91.140000  completed           6.860000   \n",
       "EMGRU2MO         53.000000  completed          17.700000   \n",
       "1ELG96TX         51.615002  completed           3.884998   \n",
       "\n",
       "             Weight Loss(current)  Heigh(m)(clean)  Height(m)(clean)  \\\n",
       "Access Code                                                            \n",
       "Y9RY2VSI                      1.1             1.72              1.72   \n",
       "3GTN3S3B                      NaN             1.76              1.76   \n",
       "6B0IG276                      NaN             1.71              1.71   \n",
       "EMGRU2MO                      NaN             1.60              1.60   \n",
       "1ELG96TX                      NaN             1.65              1.65   \n",
       "\n",
       "                   BMI  Invalid  \n",
       "Access Code                      \n",
       "Y9RY2VSI     22.613575    False  \n",
       "3GTN3S3B     22.598140    False  \n",
       "6B0IG276     33.514586    False  \n",
       "EMGRU2MO     27.617187    False  \n",
       "1ELG96TX     20.385675    False  "
      ]
     },
     "execution_count": 109,
     "metadata": {},
     "output_type": "execute_result"
    }
   ],
   "source": [
    "weight_history['Invalid'] = weight_history.apply(find_invalid_user, axis = 1)\n",
    "\n",
    "weight_history.head()"
   ]
  },
  {
   "cell_type": "markdown",
   "metadata": {},
   "source": [
    "### 8. VIP 사용자 체크하기"
   ]
  },
  {
   "cell_type": "code",
   "execution_count": 214,
   "metadata": {},
   "outputs": [],
   "source": [
    "def find_VIP(row):\n",
    "    if row[\"Status\"] == 'completed'\\\n",
    "    and pd.notnull(row[\"Weight Loss(goal)\"])\\\n",
    "    and pd.notnull(row['Weight Loss(current)'])\\\n",
    "    and pd.notnull(row[\"BMI\"])\\\n",
    "    and row[\"Weight Loss(current)\"] > 10\\\n",
    "    and row\n",
    "        return True\n",
    "    \n",
    "    return False"
   ]
  },
  {
   "cell_type": "code",
   "execution_count": 215,
   "metadata": {},
   "outputs": [],
   "source": [
    "\n",
    "\n",
    "dummy_2 = {\n",
    "    \"Status\" : \"completed\",\n",
    "    \"Weight Loss(goal)\" : np.nan\n",
    "    \n",
    "}"
   ]
  },
  {
   "cell_type": "code",
   "execution_count": 216,
   "metadata": {},
   "outputs": [
    {
     "data": {
      "text/plain": [
       "False"
      ]
     },
     "execution_count": 216,
     "metadata": {},
     "output_type": "execute_result"
    }
   ],
   "source": [
    "find_VIP(dummy_2)"
   ]
  },
  {
   "cell_type": "code",
   "execution_count": 189,
   "metadata": {},
   "outputs": [
    {
     "data": {
      "text/plain": [
       "False"
      ]
     },
     "execution_count": 189,
     "metadata": {},
     "output_type": "execute_result"
    }
   ],
   "source": [
    "0 == np.nan"
   ]
  },
  {
   "cell_type": "code",
   "execution_count": null,
   "metadata": {},
   "outputs": [],
   "source": [
    "#  눔의 프로그램을 결제한 구매자. (Status == \"completed\")\n",
    "# 목표 감량치(Weight Loss(goal)), 최종 감량치(Weight Loss(current)), BMI 수치 모두 NaN이 아닌 값이 들어가 있는 사용자.\n",
    "# 최종 감량치(Weight Loss(current))가 10kg 이상.\n",
    "# BMI 수치가 높은 사용자. (30.0 이상)\n",
    "# 최종 감량치(Weight Loss(current))가 목표 감량치(Weight Loss(goal))보다 큰 경우. (다이어트에 성공한 사람)\n",
    "\n"
   ]
  }
 ],
 "metadata": {
  "kernelspec": {
   "display_name": "Python 3",
   "language": "python",
   "name": "python3"
  },
  "language_info": {
   "codemirror_mode": {
    "name": "ipython",
    "version": 3
   },
   "file_extension": ".py",
   "mimetype": "text/x-python",
   "name": "python",
   "nbconvert_exporter": "python",
   "pygments_lexer": "ipython3",
   "version": "3.7.4"
  }
 },
 "nbformat": 4,
 "nbformat_minor": 2
}
